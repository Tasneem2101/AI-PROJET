{
 "cells": [
  {
   "cell_type": "code",
   "execution_count": 1,
   "id": "aad548de",
   "metadata": {},
   "outputs": [],
   "source": [
    "#importing libraries\n",
    "import pandas as pd\n",
    "import numpy as np\n",
    "import matplotlib.pyplot as plt\n",
    "import seaborn as sns\n",
    "from pandas.plotting import scatter_matrix\n",
    "from sklearn.preprocessing import StandardScaler\n",
    "from sklearn.model_selection import train_test_split\n",
    "from sklearn.metrics import confusion_matrix\n",
    "from sklearn import metrics\n",
    "from sklearn.metrics import classification_report\n",
    "import warnings"
   ]
  },
  {
   "cell_type": "code",
   "execution_count": 2,
   "id": "07a38201",
   "metadata": {},
   "outputs": [
    {
     "data": {
      "text/plain": [
       "Index(['Pregnancies', 'Glucose', 'BloodPressure', 'SkinThickness', 'Insulin',\n",
       "       'BMI', 'DiabetesPedigreeFunction', 'Age', 'Outcome'],\n",
       "      dtype='object')"
      ]
     },
     "execution_count": 2,
     "metadata": {},
     "output_type": "execute_result"
    }
   ],
   "source": [
    "#Data Exploration\n",
    "diabetes = pd.read_csv('diabetes.csv')\n",
    "diabetes.columns "
   ]
  },
  {
   "cell_type": "code",
   "execution_count": 3,
   "id": "59272a2c",
   "metadata": {},
   "outputs": [
    {
     "data": {
      "text/html": [
       "<div>\n",
       "<style scoped>\n",
       "    .dataframe tbody tr th:only-of-type {\n",
       "        vertical-align: middle;\n",
       "    }\n",
       "\n",
       "    .dataframe tbody tr th {\n",
       "        vertical-align: top;\n",
       "    }\n",
       "\n",
       "    .dataframe thead th {\n",
       "        text-align: right;\n",
       "    }\n",
       "</style>\n",
       "<table border=\"1\" class=\"dataframe\">\n",
       "  <thead>\n",
       "    <tr style=\"text-align: right;\">\n",
       "      <th></th>\n",
       "      <th>Pregnancies</th>\n",
       "      <th>Glucose</th>\n",
       "      <th>BloodPressure</th>\n",
       "      <th>SkinThickness</th>\n",
       "      <th>Insulin</th>\n",
       "      <th>BMI</th>\n",
       "      <th>DiabetesPedigreeFunction</th>\n",
       "      <th>Age</th>\n",
       "      <th>Outcome</th>\n",
       "    </tr>\n",
       "  </thead>\n",
       "  <tbody>\n",
       "    <tr>\n",
       "      <th>0</th>\n",
       "      <td>6</td>\n",
       "      <td>148</td>\n",
       "      <td>72</td>\n",
       "      <td>35</td>\n",
       "      <td>0</td>\n",
       "      <td>33.6</td>\n",
       "      <td>0.627</td>\n",
       "      <td>50</td>\n",
       "      <td>1</td>\n",
       "    </tr>\n",
       "    <tr>\n",
       "      <th>1</th>\n",
       "      <td>1</td>\n",
       "      <td>85</td>\n",
       "      <td>66</td>\n",
       "      <td>29</td>\n",
       "      <td>0</td>\n",
       "      <td>26.6</td>\n",
       "      <td>0.351</td>\n",
       "      <td>31</td>\n",
       "      <td>0</td>\n",
       "    </tr>\n",
       "    <tr>\n",
       "      <th>2</th>\n",
       "      <td>8</td>\n",
       "      <td>183</td>\n",
       "      <td>64</td>\n",
       "      <td>0</td>\n",
       "      <td>0</td>\n",
       "      <td>23.3</td>\n",
       "      <td>0.672</td>\n",
       "      <td>32</td>\n",
       "      <td>1</td>\n",
       "    </tr>\n",
       "    <tr>\n",
       "      <th>3</th>\n",
       "      <td>1</td>\n",
       "      <td>89</td>\n",
       "      <td>66</td>\n",
       "      <td>23</td>\n",
       "      <td>94</td>\n",
       "      <td>28.1</td>\n",
       "      <td>0.167</td>\n",
       "      <td>21</td>\n",
       "      <td>0</td>\n",
       "    </tr>\n",
       "    <tr>\n",
       "      <th>4</th>\n",
       "      <td>0</td>\n",
       "      <td>137</td>\n",
       "      <td>40</td>\n",
       "      <td>35</td>\n",
       "      <td>168</td>\n",
       "      <td>43.1</td>\n",
       "      <td>2.288</td>\n",
       "      <td>33</td>\n",
       "      <td>1</td>\n",
       "    </tr>\n",
       "  </tbody>\n",
       "</table>\n",
       "</div>"
      ],
      "text/plain": [
       "   Pregnancies  Glucose  BloodPressure  SkinThickness  Insulin   BMI  \\\n",
       "0            6      148             72             35        0  33.6   \n",
       "1            1       85             66             29        0  26.6   \n",
       "2            8      183             64              0        0  23.3   \n",
       "3            1       89             66             23       94  28.1   \n",
       "4            0      137             40             35      168  43.1   \n",
       "\n",
       "   DiabetesPedigreeFunction  Age  Outcome  \n",
       "0                     0.627   50        1  \n",
       "1                     0.351   31        0  \n",
       "2                     0.672   32        1  \n",
       "3                     0.167   21        0  \n",
       "4                     2.288   33        1  "
      ]
     },
     "execution_count": 3,
     "metadata": {},
     "output_type": "execute_result"
    }
   ],
   "source": [
    "diabetes.head()"
   ]
  },
  {
   "cell_type": "code",
   "execution_count": 4,
   "id": "94aa4603",
   "metadata": {},
   "outputs": [
    {
     "name": "stdout",
     "output_type": "stream",
     "text": [
      "Diabetes data set dimensions : (768, 9)\n"
     ]
    }
   ],
   "source": [
    "#the dimensions of the data set\n",
    "print(\"Diabetes data set dimensions : {}\".format(diabetes.shape))"
   ]
  },
  {
   "cell_type": "code",
   "execution_count": 5,
   "id": "6d01afb3",
   "metadata": {},
   "outputs": [
    {
     "data": {
      "text/plain": [
       "Outcome\n",
       "0    500\n",
       "1    268\n",
       "dtype: int64"
      ]
     },
     "execution_count": 5,
     "metadata": {},
     "output_type": "execute_result"
    }
   ],
   "source": [
    "#1 means the person is diabetic and 0 means a person is not.\n",
    "diabetes.groupby('Outcome').size()"
   ]
  },
  {
   "cell_type": "code",
   "execution_count": 6,
   "id": "ce92bdcc",
   "metadata": {},
   "outputs": [
    {
     "data": {
      "text/plain": [
       "Outcome\n",
       "0    [[AxesSubplot(0.125,0.670278;0.215278x0.209722...\n",
       "1    [[AxesSubplot(0.125,0.670278;0.215278x0.209722...\n",
       "dtype: object"
      ]
     },
     "execution_count": 6,
     "metadata": {},
     "output_type": "execute_result"
    },
    {
     "data": {
      "image/png": "[encoded data removed]",
      "text/plain": [
       "<Figure size 648x648 with 9 Axes>"
      ]
     },
     "metadata": {
      "needs_background": "light"
     },
     "output_type": "display_data"
    },
    {
     "data": {
      "image/png": "[encoded data removed]",
      "text/plain": [
       "<Figure size 648x648 with 9 Axes>"
      ]
     },
     "metadata": {
      "needs_background": "light"
     },
     "output_type": "display_data"
    }
   ],
   "source": [
    "#Visualizating the data\n",
    "diabetes.groupby('Outcome').hist(figsize=(9, 9))"
   ]
  },
  {
   "cell_type": "markdown",
   "id": "d55824de",
   "metadata": {},
   "source": [
    "# Data Cleaning\n"
   ]
  },
  {
   "cell_type": "markdown",
   "id": "675e94cb",
   "metadata": {},
   "source": [
    "\n"
   ]
  },
  {
   "cell_type": "code",
   "execution_count": 7,
   "id": "54e4f25d",
   "metadata": {},
   "outputs": [
    {
     "name": "stdout",
     "output_type": "stream",
     "text": [
      "0\n"
     ]
    }
   ],
   "source": [
    "#checking for duplication\n",
    "print(diabetes.duplicated().sum())"
   ]
  },
  {
   "cell_type": "code",
   "execution_count": 8,
   "id": "b791bc5e",
   "metadata": {},
   "outputs": [
    {
     "data": {
      "text/plain": [
       "Pregnancies                 0\n",
       "Glucose                     0\n",
       "BloodPressure               0\n",
       "SkinThickness               0\n",
       "Insulin                     0\n",
       "BMI                         0\n",
       "DiabetesPedigreeFunction    0\n",
       "Age                         0\n",
       "Outcome                     0\n",
       "dtype: int64"
      ]
     },
     "execution_count": 8,
     "metadata": {},
     "output_type": "execute_result"
    }
   ],
   "source": [
    "#Missing or Null Data points\n",
    "diabetes.isnull().sum()\n",
    "diabetes.isna().sum()"
   ]
  },
  {
   "cell_type": "markdown",
   "id": "bbef89e4",
   "metadata": {},
   "source": [
    "there are no data points missing in the data set."
   ]
  },
  {
   "cell_type": "markdown",
   "id": "6b884ffc",
   "metadata": {},
   "source": [
    "#### Unexpected Outliers"
   ]
  },
  {
   "cell_type": "markdown",
   "id": "d2acb7f5",
   "metadata": {},
   "source": [
    "#### BloodPressure"
   ]
  },
  {
   "cell_type": "code",
   "execution_count": 9,
   "id": "b05e90f6",
   "metadata": {},
   "outputs": [
    {
     "name": "stdout",
     "output_type": "stream",
     "text": [
      "Total :  35\n"
     ]
    }
   ],
   "source": [
    "print(\"Total : \", diabetes[diabetes.BloodPressure == 0].shape[0])"
   ]
  },
  {
   "cell_type": "code",
   "execution_count": 10,
   "id": "10adebd4",
   "metadata": {},
   "outputs": [
    {
     "name": "stdout",
     "output_type": "stream",
     "text": [
      "Outcome\n",
      "0    19\n",
      "1    16\n",
      "Name: Age, dtype: int64\n"
     ]
    }
   ],
   "source": [
    "print(diabetes[diabetes.BloodPressure == 0].groupby('Outcome')['Age'].count())"
   ]
  },
  {
   "cell_type": "markdown",
   "id": "d9d693be",
   "metadata": {},
   "source": [
    "#### Glucose"
   ]
  },
  {
   "cell_type": "code",
   "execution_count": 11,
   "id": "d3939d05",
   "metadata": {},
   "outputs": [
    {
     "name": "stdout",
     "output_type": "stream",
     "text": [
      "Total :  5\n"
     ]
    }
   ],
   "source": [
    "print(\"Total : \", diabetes[diabetes.Glucose == 0].shape[0])"
   ]
  },
  {
   "cell_type": "code",
   "execution_count": 12,
   "id": "b33ec127",
   "metadata": {},
   "outputs": [
    {
     "name": "stdout",
     "output_type": "stream",
     "text": [
      "Outcome\n",
      "0    3\n",
      "1    2\n",
      "Name: Age, dtype: int64\n"
     ]
    }
   ],
   "source": [
    "print(diabetes[diabetes.Glucose == 0].groupby('Outcome')['Age'].count())"
   ]
  },
  {
   "cell_type": "markdown",
   "id": "d3b05553",
   "metadata": {},
   "source": [
    "#### SkinThickness"
   ]
  },
  {
   "cell_type": "code",
   "execution_count": 13,
   "id": "b86b7a20",
   "metadata": {},
   "outputs": [
    {
     "name": "stdout",
     "output_type": "stream",
     "text": [
      "Total :  227\n"
     ]
    }
   ],
   "source": [
    "print(\"Total : \", diabetes[diabetes.SkinThickness == 0].shape[0])"
   ]
  },
  {
   "cell_type": "code",
   "execution_count": 14,
   "id": "4f36a8d2",
   "metadata": {},
   "outputs": [
    {
     "name": "stdout",
     "output_type": "stream",
     "text": [
      "Outcome\n",
      "0    139\n",
      "1     88\n",
      "Name: Age, dtype: int64\n"
     ]
    }
   ],
   "source": [
    "print(diabetes[diabetes.SkinThickness == 0].groupby('Outcome')['Age'].count())"
   ]
  },
  {
   "cell_type": "markdown",
   "id": "124c693b",
   "metadata": {},
   "source": [
    "#### BMI"
   ]
  },
  {
   "cell_type": "code",
   "execution_count": 15,
   "id": "5297565b",
   "metadata": {},
   "outputs": [
    {
     "name": "stdout",
     "output_type": "stream",
     "text": [
      "Total :  11\n"
     ]
    }
   ],
   "source": [
    "print(\"Total : \", diabetes[diabetes.BMI == 0].shape[0])"
   ]
  },
  {
   "cell_type": "code",
   "execution_count": 16,
   "id": "c8d5cc5a",
   "metadata": {},
   "outputs": [
    {
     "name": "stdout",
     "output_type": "stream",
     "text": [
      "Outcome\n",
      "0    9\n",
      "1    2\n",
      "Name: Age, dtype: int64\n"
     ]
    }
   ],
   "source": [
    "print(diabetes[diabetes.BMI == 0].groupby('Outcome')['Age'].count())"
   ]
  },
  {
   "cell_type": "markdown",
   "id": "5cf32b9a",
   "metadata": {},
   "source": [
    "#### Insulin "
   ]
  },
  {
   "cell_type": "code",
   "execution_count": 17,
   "id": "164c0bc0",
   "metadata": {},
   "outputs": [
    {
     "name": "stdout",
     "output_type": "stream",
     "text": [
      "Total :  374\n"
     ]
    }
   ],
   "source": [
    "print(\"Total : \", diabetes[diabetes.Insulin == 0].shape[0])"
   ]
  },
  {
   "cell_type": "code",
   "execution_count": 18,
   "id": "c65024ca",
   "metadata": {},
   "outputs": [
    {
     "name": "stdout",
     "output_type": "stream",
     "text": [
      "Outcome\n",
      "0    236\n",
      "1    138\n",
      "Name: Age, dtype: int64\n"
     ]
    }
   ],
   "source": [
    "print(diabetes[diabetes.Insulin == 0].groupby('Outcome')['Age'].count())"
   ]
  },
  {
   "cell_type": "code",
   "execution_count": 19,
   "id": "de70b67b",
   "metadata": {},
   "outputs": [
    {
     "name": "stdout",
     "output_type": "stream",
     "text": [
      "(724, 9)\n"
     ]
    }
   ],
   "source": [
    "#remove the rows which the “BloodPressure”, “BMI” and “Glucose” are zero.\n",
    "diabetes_mod = diabetes[(diabetes.BloodPressure != 0) & (diabetes.BMI != 0) & (diabetes.Glucose != 0)]\n",
    "print(diabetes_mod.shape)"
   ]
  },
  {
   "cell_type": "code",
   "execution_count": 20,
   "id": "7b00d70f",
   "metadata": {},
   "outputs": [],
   "source": [
    "#Assign the features to the X variable and the response to the y variable.\n",
    "feature_names = ['Pregnancies', 'Glucose', 'BloodPressure', 'SkinThickness', 'Insulin', 'BMI', 'DiabetesPedigreeFunction', 'Age']\n",
    "X = diabetes_mod[feature_names]\n",
    "y = diabetes_mod.Outcome"
   ]
  },
  {
   "cell_type": "code",
   "execution_count": 21,
   "id": "8e01ff32",
   "metadata": {},
   "outputs": [],
   "source": [
    "#splitting data\n",
    "from sklearn.model_selection import train_test_split\n",
    "\n",
    "X_train, X_test, y_train, y_test = train_test_split(X,y, test_size=0.33,random_state=7)"
   ]
  },
  {
   "cell_type": "markdown",
   "id": "aa07c139",
   "metadata": {},
   "source": [
    "### Classification"
   ]
  },
  {
   "cell_type": "markdown",
   "id": "95a26923",
   "metadata": {},
   "source": [
    "#### Random Forest (RF)"
   ]
  },
  {
   "cell_type": "code",
   "execution_count": 22,
   "id": "0fee5d77",
   "metadata": {},
   "outputs": [
    {
     "data": {
      "text/plain": [
       "RandomForestClassifier(n_estimators=200)"
      ]
     },
     "execution_count": 22,
     "metadata": {},
     "output_type": "execute_result"
    }
   ],
   "source": [
    "from sklearn.ensemble import RandomForestClassifier\n",
    "\n",
    "rfc = RandomForestClassifier(n_estimators=200)\n",
    "rfc.fit(X_train, y_train)"
   ]
  },
  {
   "cell_type": "markdown",
   "id": "f75651af",
   "metadata": {},
   "source": [
    "#### Predict and Evaluate Accurancy"
   ]
  },
  {
   "cell_type": "code",
   "execution_count": 23,
   "id": "9a8905b6",
   "metadata": {},
   "outputs": [
    {
     "name": "stdout",
     "output_type": "stream",
     "text": [
      "Accuracy_Score = 1.0\n"
     ]
    }
   ],
   "source": [
    "rfc_train = rfc.predict(X_train)\n",
    "from sklearn import metrics\n",
    "print(\"Accuracy_Score =\", format(metrics.accuracy_score(y_train, rfc_train)))"
   ]
  },
  {
   "cell_type": "code",
   "execution_count": 24,
   "id": "738abe3e",
   "metadata": {},
   "outputs": [
    {
     "name": "stdout",
     "output_type": "stream",
     "text": [
      "Accuracy_Score = 0.7615062761506276\n"
     ]
    }
   ],
   "source": [
    "from sklearn import metrics\n",
    "predictions = rfc.predict(X_test)\n",
    "print(\"Accuracy_Score =\", format(metrics.accuracy_score(y_test, predictions)))"
   ]
  },
  {
   "cell_type": "code",
   "execution_count": 25,
   "id": "277985f3",
   "metadata": {},
   "outputs": [
    {
     "name": "stdout",
     "output_type": "stream",
     "text": [
      "              precision    recall  f1-score   support\n",
      "\n",
      "           0       0.80      0.86      0.83       160\n",
      "           1       0.67      0.56      0.61        79\n",
      "\n",
      "    accuracy                           0.76       239\n",
      "   macro avg       0.73      0.71      0.72       239\n",
      "weighted avg       0.75      0.76      0.76       239\n",
      "\n"
     ]
    }
   ],
   "source": [
    "from sklearn.metrics import classification_report, confusion_matrix\n",
    "\n",
    "print(classification_report(y_test,predictions))"
   ]
  },
  {
   "cell_type": "code",
   "execution_count": 26,
   "id": "afb76e4c",
   "metadata": {},
   "outputs": [
    {
     "data": {
      "text/plain": [
       "array([0.08348107, 0.25562965, 0.08560032, 0.07126095, 0.07739892,\n",
       "       0.15396052, 0.12887707, 0.14379151])"
      ]
     },
     "execution_count": 26,
     "metadata": {},
     "output_type": "execute_result"
    }
   ],
   "source": [
    "#Getting feature importances\n",
    "rfc.feature_importances_"
   ]
  },
  {
   "cell_type": "code",
   "execution_count": 27,
   "id": "8d6ff258",
   "metadata": {},
   "outputs": [
    {
     "data": {
      "text/plain": [
       "<AxesSubplot:>"
      ]
     },
     "execution_count": 27,
     "metadata": {},
     "output_type": "execute_result"
    },
    {
     "data": {
      "image/png": "[encoded data removed]",
      "text/plain": [
       "<Figure size 432x288 with 1 Axes>"
      ]
     },
     "metadata": {
      "needs_background": "light"
     },
     "output_type": "display_data"
    }
   ],
   "source": [
    "#Plotting feature importances\n",
    "(pd.Series(rfc.feature_importances_, index=X.columns)\n",
    "   .plot(kind='barh'))  "
   ]
  },
  {
   "cell_type": "code",
   "execution_count": 28,
   "id": "33a9ecbf",
   "metadata": {},
   "outputs": [
    {
     "name": "stdout",
     "output_type": "stream",
     "text": [
      "Prediction Probabilities\n"
     ]
    },
    {
     "data": {
      "text/plain": [
       "array([[0.97 , 0.03 ],\n",
       "       [0.555, 0.445],\n",
       "       [0.785, 0.215],\n",
       "       [0.93 , 0.07 ],\n",
       "       [0.75 , 0.25 ],\n",
       "       [0.61 , 0.39 ],\n",
       "       [0.65 , 0.35 ],\n",
       "       [0.265, 0.735],\n",
       "       [0.985, 0.015],\n",
       "       [0.95 , 0.05 ],\n",
       "       [0.645, 0.355],\n",
       "       [0.375, 0.625],\n",
       "       [0.54 , 0.46 ],\n",
       "       [0.385, 0.615],\n",
       "       [0.81 , 0.19 ],\n",
       "       [0.92 , 0.08 ],\n",
       "       [0.895, 0.105],\n",
       "       [0.565, 0.435],\n",
       "       [0.94 , 0.06 ],\n",
       "       [0.23 , 0.77 ],\n",
       "       [0.525, 0.475],\n",
       "       [0.54 , 0.46 ],\n",
       "       [0.925, 0.075],\n",
       "       [0.94 , 0.06 ],\n",
       "       [0.96 , 0.04 ],\n",
       "       [0.535, 0.465],\n",
       "       [0.82 , 0.18 ],\n",
       "       [0.94 , 0.06 ],\n",
       "       [0.23 , 0.77 ],\n",
       "       [0.735, 0.265],\n",
       "       [0.2  , 0.8  ],\n",
       "       [0.725, 0.275],\n",
       "       [0.715, 0.285],\n",
       "       [0.985, 0.015],\n",
       "       [0.205, 0.795],\n",
       "       [0.94 , 0.06 ],\n",
       "       [0.81 , 0.19 ],\n",
       "       [0.955, 0.045],\n",
       "       [0.245, 0.755],\n",
       "       [0.14 , 0.86 ],\n",
       "       [0.8  , 0.2  ],\n",
       "       [0.845, 0.155],\n",
       "       [0.185, 0.815],\n",
       "       [0.92 , 0.08 ],\n",
       "       [0.565, 0.435],\n",
       "       [0.315, 0.685],\n",
       "       [0.15 , 0.85 ],\n",
       "       [0.99 , 0.01 ],\n",
       "       [0.32 , 0.68 ],\n",
       "       [0.885, 0.115],\n",
       "       [0.945, 0.055],\n",
       "       [0.31 , 0.69 ],\n",
       "       [0.54 , 0.46 ],\n",
       "       [0.41 , 0.59 ],\n",
       "       [0.92 , 0.08 ],\n",
       "       [0.795, 0.205],\n",
       "       [0.855, 0.145],\n",
       "       [0.31 , 0.69 ],\n",
       "       [0.58 , 0.42 ],\n",
       "       [0.74 , 0.26 ],\n",
       "       [0.465, 0.535],\n",
       "       [0.185, 0.815],\n",
       "       [0.74 , 0.26 ],\n",
       "       [0.505, 0.495],\n",
       "       [0.27 , 0.73 ],\n",
       "       [0.7  , 0.3  ],\n",
       "       [0.14 , 0.86 ],\n",
       "       [0.84 , 0.16 ],\n",
       "       [0.95 , 0.05 ],\n",
       "       [0.33 , 0.67 ],\n",
       "       [0.68 , 0.32 ],\n",
       "       [0.33 , 0.67 ],\n",
       "       [0.395, 0.605],\n",
       "       [0.61 , 0.39 ],\n",
       "       [0.585, 0.415],\n",
       "       [0.695, 0.305],\n",
       "       [0.74 , 0.26 ],\n",
       "       [0.99 , 0.01 ],\n",
       "       [0.955, 0.045],\n",
       "       [0.915, 0.085],\n",
       "       [0.99 , 0.01 ],\n",
       "       [0.98 , 0.02 ],\n",
       "       [0.915, 0.085],\n",
       "       [0.6  , 0.4  ],\n",
       "       [0.71 , 0.29 ],\n",
       "       [0.49 , 0.51 ],\n",
       "       [0.92 , 0.08 ],\n",
       "       [0.665, 0.335],\n",
       "       [0.67 , 0.33 ],\n",
       "       [0.54 , 0.46 ],\n",
       "       [0.655, 0.345],\n",
       "       [0.855, 0.145],\n",
       "       [0.765, 0.235],\n",
       "       [0.495, 0.505],\n",
       "       [0.84 , 0.16 ],\n",
       "       [0.55 , 0.45 ],\n",
       "       [0.95 , 0.05 ],\n",
       "       [0.67 , 0.33 ],\n",
       "       [0.715, 0.285],\n",
       "       [0.925, 0.075],\n",
       "       [0.895, 0.105],\n",
       "       [0.65 , 0.35 ],\n",
       "       [0.81 , 0.19 ],\n",
       "       [0.54 , 0.46 ],\n",
       "       [0.97 , 0.03 ],\n",
       "       [0.645, 0.355],\n",
       "       [0.455, 0.545],\n",
       "       [0.68 , 0.32 ],\n",
       "       [0.115, 0.885],\n",
       "       [1.   , 0.   ],\n",
       "       [0.525, 0.475],\n",
       "       [0.585, 0.415],\n",
       "       [0.33 , 0.67 ],\n",
       "       [0.66 , 0.34 ],\n",
       "       [0.885, 0.115],\n",
       "       [0.9  , 0.1  ],\n",
       "       [0.975, 0.025],\n",
       "       [0.25 , 0.75 ],\n",
       "       [0.715, 0.285],\n",
       "       [0.72 , 0.28 ],\n",
       "       [0.93 , 0.07 ],\n",
       "       [0.835, 0.165],\n",
       "       [0.795, 0.205],\n",
       "       [0.59 , 0.41 ],\n",
       "       [0.58 , 0.42 ],\n",
       "       [0.88 , 0.12 ],\n",
       "       [0.69 , 0.31 ],\n",
       "       [0.445, 0.555],\n",
       "       [0.37 , 0.63 ],\n",
       "       [0.94 , 0.06 ],\n",
       "       [0.93 , 0.07 ],\n",
       "       [0.985, 0.015],\n",
       "       [0.615, 0.385],\n",
       "       [0.835, 0.165],\n",
       "       [0.965, 0.035],\n",
       "       [0.2  , 0.8  ],\n",
       "       [0.295, 0.705],\n",
       "       [0.71 , 0.29 ],\n",
       "       [0.98 , 0.02 ],\n",
       "       [0.755, 0.245],\n",
       "       [0.47 , 0.53 ],\n",
       "       [0.995, 0.005],\n",
       "       [0.335, 0.665],\n",
       "       [0.875, 0.125],\n",
       "       [0.28 , 0.72 ],\n",
       "       [0.58 , 0.42 ],\n",
       "       [0.72 , 0.28 ],\n",
       "       [0.67 , 0.33 ],\n",
       "       [0.87 , 0.13 ],\n",
       "       [0.925, 0.075],\n",
       "       [0.715, 0.285],\n",
       "       [0.105, 0.895],\n",
       "       [0.355, 0.645],\n",
       "       [0.95 , 0.05 ],\n",
       "       [0.615, 0.385],\n",
       "       [0.77 , 0.23 ],\n",
       "       [0.17 , 0.83 ],\n",
       "       [0.915, 0.085],\n",
       "       [0.845, 0.155],\n",
       "       [0.955, 0.045],\n",
       "       [0.89 , 0.11 ],\n",
       "       [0.7  , 0.3  ],\n",
       "       [0.435, 0.565],\n",
       "       [0.965, 0.035],\n",
       "       [0.625, 0.375],\n",
       "       [0.905, 0.095],\n",
       "       [0.715, 0.285],\n",
       "       [0.365, 0.635],\n",
       "       [0.415, 0.585],\n",
       "       [0.985, 0.015],\n",
       "       [0.965, 0.035],\n",
       "       [0.8  , 0.2  ],\n",
       "       [0.81 , 0.19 ],\n",
       "       [0.97 , 0.03 ],\n",
       "       [0.635, 0.365],\n",
       "       [0.28 , 0.72 ],\n",
       "       [0.495, 0.505],\n",
       "       [0.59 , 0.41 ],\n",
       "       [0.955, 0.045],\n",
       "       [0.935, 0.065],\n",
       "       [0.665, 0.335],\n",
       "       [0.975, 0.025],\n",
       "       [0.805, 0.195],\n",
       "       [0.31 , 0.69 ],\n",
       "       [0.83 , 0.17 ],\n",
       "       [0.65 , 0.35 ],\n",
       "       [0.435, 0.565],\n",
       "       [0.7  , 0.3  ],\n",
       "       [0.135, 0.865],\n",
       "       [0.58 , 0.42 ],\n",
       "       [0.465, 0.535],\n",
       "       [0.74 , 0.26 ],\n",
       "       [0.91 , 0.09 ],\n",
       "       [0.49 , 0.51 ],\n",
       "       [0.98 , 0.02 ],\n",
       "       [0.98 , 0.02 ],\n",
       "       [0.945, 0.055],\n",
       "       [0.5  , 0.5  ],\n",
       "       [0.97 , 0.03 ],\n",
       "       [0.415, 0.585],\n",
       "       [0.175, 0.825],\n",
       "       [0.46 , 0.54 ],\n",
       "       [0.965, 0.035],\n",
       "       [0.325, 0.675],\n",
       "       [0.2  , 0.8  ],\n",
       "       [0.48 , 0.52 ],\n",
       "       [0.605, 0.395],\n",
       "       [0.51 , 0.49 ],\n",
       "       [0.825, 0.175],\n",
       "       [0.415, 0.585],\n",
       "       [0.7  , 0.3  ],\n",
       "       [0.325, 0.675],\n",
       "       [0.96 , 0.04 ],\n",
       "       [0.425, 0.575],\n",
       "       [0.61 , 0.39 ],\n",
       "       [0.1  , 0.9  ],\n",
       "       [0.925, 0.075],\n",
       "       [0.485, 0.515],\n",
       "       [0.925, 0.075],\n",
       "       [0.895, 0.105],\n",
       "       [0.505, 0.495],\n",
       "       [0.89 , 0.11 ],\n",
       "       [0.935, 0.065],\n",
       "       [0.825, 0.175],\n",
       "       [0.395, 0.605],\n",
       "       [0.935, 0.065],\n",
       "       [0.425, 0.575],\n",
       "       [0.77 , 0.23 ],\n",
       "       [0.985, 0.015],\n",
       "       [0.895, 0.105],\n",
       "       [0.605, 0.395],\n",
       "       [0.2  , 0.8  ],\n",
       "       [0.455, 0.545],\n",
       "       [0.8  , 0.2  ],\n",
       "       [0.97 , 0.03 ],\n",
       "       [0.395, 0.605],\n",
       "       [0.195, 0.805],\n",
       "       [0.64 , 0.36 ],\n",
       "       [0.895, 0.105]])"
      ]
     },
     "execution_count": 28,
     "metadata": {},
     "output_type": "execute_result"
    }
   ],
   "source": [
    "#Printing prediction probabilities for the test data\n",
    "print('Prediction Probabilities')\n",
    "rfc.predict_proba(X_test)"
   ]
  },
  {
   "cell_type": "code",
   "execution_count": 29,
   "id": "d8da88a0",
   "metadata": {},
   "outputs": [
    {
     "data": {
      "text/plain": [
       "array([0, 0, 0, 0, 0, 0, 0, 1, 0, 0, 0, 1, 0, 1, 0, 0, 0, 0, 0, 1, 0, 0,\n",
       "       0, 0, 0, 0, 0, 0, 1, 0, 1, 0, 0, 0, 1, 0, 0, 0, 1, 1, 0, 0, 1, 0,\n",
       "       0, 1, 1, 0, 1, 0, 0, 1, 0, 1, 0, 0, 0, 1, 0, 0, 1, 1, 0, 0, 1, 0,\n",
       "       1, 0, 0, 1, 0, 1, 1, 0, 0, 0, 0, 0, 0, 0, 0, 0, 0, 0, 0, 1, 0, 0,\n",
       "       0, 0, 0, 0, 0, 1, 0, 0, 0, 0, 0, 0, 0, 0, 0, 0, 0, 0, 1, 0, 1, 0,\n",
       "       0, 0, 1, 0, 0, 0, 0, 1, 0, 0, 0, 0, 0, 0, 0, 0, 0, 1, 1, 0, 0, 0,\n",
       "       0, 0, 0, 1, 1, 0, 0, 0, 1, 0, 1, 0, 1, 0, 0, 0, 0, 0, 0, 1, 1, 0,\n",
       "       0, 0, 1, 0, 0, 0, 0, 0, 1, 0, 0, 0, 0, 1, 1, 0, 0, 0, 0, 0, 0, 1,\n",
       "       1, 0, 0, 0, 0, 0, 0, 1, 0, 0, 1, 0, 1, 0, 1, 0, 0, 1, 0, 0, 0, 0,\n",
       "       0, 1, 1, 1, 0, 1, 1, 1, 0, 0, 0, 1, 0, 1, 0, 1, 0, 1, 0, 1, 0, 0,\n",
       "       0, 0, 0, 0, 1, 0, 1, 0, 0, 0, 0, 1, 1, 0, 0, 1, 1, 0, 0],\n",
       "      dtype=int64)"
      ]
     },
     "execution_count": 29,
     "metadata": {},
     "output_type": "execute_result"
    }
   ],
   "source": [
    "import pickle\n",
    " \n",
    "# Firstly we will be using the dump() function to save the model using pickle\n",
    "saved_model = pickle.dumps(rfc)\n",
    " \n",
    "# Then we will be loading that saved model\n",
    "rfc_from_pickle = pickle.loads(saved_model)\n",
    " \n",
    "# lastly, after loading that model we will use this to make predictions\n",
    "rfc_from_pickle.predict(X_test)"
   ]
  },
  {
   "cell_type": "code",
   "execution_count": 30,
   "id": "7339f8e5",
   "metadata": {},
   "outputs": [
    {
     "data": {
      "text/html": [
       "<div>\n",
       "<style scoped>\n",
       "    .dataframe tbody tr th:only-of-type {\n",
       "        vertical-align: middle;\n",
       "    }\n",
       "\n",
       "    .dataframe tbody tr th {\n",
       "        vertical-align: top;\n",
       "    }\n",
       "\n",
       "    .dataframe thead th {\n",
       "        text-align: right;\n",
       "    }\n",
       "</style>\n",
       "<table border=\"1\" class=\"dataframe\">\n",
       "  <thead>\n",
       "    <tr style=\"text-align: right;\">\n",
       "      <th></th>\n",
       "      <th>Pregnancies</th>\n",
       "      <th>Glucose</th>\n",
       "      <th>BloodPressure</th>\n",
       "      <th>SkinThickness</th>\n",
       "      <th>Insulin</th>\n",
       "      <th>BMI</th>\n",
       "      <th>DiabetesPedigreeFunction</th>\n",
       "      <th>Age</th>\n",
       "      <th>Outcome</th>\n",
       "    </tr>\n",
       "  </thead>\n",
       "  <tbody>\n",
       "    <tr>\n",
       "      <th>0</th>\n",
       "      <td>6</td>\n",
       "      <td>148</td>\n",
       "      <td>72</td>\n",
       "      <td>35</td>\n",
       "      <td>0</td>\n",
       "      <td>33.6</td>\n",
       "      <td>0.627</td>\n",
       "      <td>50</td>\n",
       "      <td>1</td>\n",
       "    </tr>\n",
       "    <tr>\n",
       "      <th>1</th>\n",
       "      <td>1</td>\n",
       "      <td>85</td>\n",
       "      <td>66</td>\n",
       "      <td>29</td>\n",
       "      <td>0</td>\n",
       "      <td>26.6</td>\n",
       "      <td>0.351</td>\n",
       "      <td>31</td>\n",
       "      <td>0</td>\n",
       "    </tr>\n",
       "    <tr>\n",
       "      <th>2</th>\n",
       "      <td>8</td>\n",
       "      <td>183</td>\n",
       "      <td>64</td>\n",
       "      <td>0</td>\n",
       "      <td>0</td>\n",
       "      <td>23.3</td>\n",
       "      <td>0.672</td>\n",
       "      <td>32</td>\n",
       "      <td>1</td>\n",
       "    </tr>\n",
       "    <tr>\n",
       "      <th>3</th>\n",
       "      <td>1</td>\n",
       "      <td>89</td>\n",
       "      <td>66</td>\n",
       "      <td>23</td>\n",
       "      <td>94</td>\n",
       "      <td>28.1</td>\n",
       "      <td>0.167</td>\n",
       "      <td>21</td>\n",
       "      <td>0</td>\n",
       "    </tr>\n",
       "    <tr>\n",
       "      <th>4</th>\n",
       "      <td>0</td>\n",
       "      <td>137</td>\n",
       "      <td>40</td>\n",
       "      <td>35</td>\n",
       "      <td>168</td>\n",
       "      <td>43.1</td>\n",
       "      <td>2.288</td>\n",
       "      <td>33</td>\n",
       "      <td>1</td>\n",
       "    </tr>\n",
       "  </tbody>\n",
       "</table>\n",
       "</div>"
      ],
      "text/plain": [
       "   Pregnancies  Glucose  BloodPressure  SkinThickness  Insulin   BMI  \\\n",
       "0            6      148             72             35        0  33.6   \n",
       "1            1       85             66             29        0  26.6   \n",
       "2            8      183             64              0        0  23.3   \n",
       "3            1       89             66             23       94  28.1   \n",
       "4            0      137             40             35      168  43.1   \n",
       "\n",
       "   DiabetesPedigreeFunction  Age  Outcome  \n",
       "0                     0.627   50        1  \n",
       "1                     0.351   31        0  \n",
       "2                     0.672   32        1  \n",
       "3                     0.167   21        0  \n",
       "4                     2.288   33        1  "
      ]
     },
     "execution_count": 30,
     "metadata": {},
     "output_type": "execute_result"
    }
   ],
   "source": [
    "diabetes.head()"
   ]
  },
  {
   "cell_type": "code",
   "execution_count": 31,
   "id": "d3851bbf",
   "metadata": {},
   "outputs": [
    {
     "data": {
      "text/html": [
       "<div>\n",
       "<style scoped>\n",
       "    .dataframe tbody tr th:only-of-type {\n",
       "        vertical-align: middle;\n",
       "    }\n",
       "\n",
       "    .dataframe tbody tr th {\n",
       "        vertical-align: top;\n",
       "    }\n",
       "\n",
       "    .dataframe thead th {\n",
       "        text-align: right;\n",
       "    }\n",
       "</style>\n",
       "<table border=\"1\" class=\"dataframe\">\n",
       "  <thead>\n",
       "    <tr style=\"text-align: right;\">\n",
       "      <th></th>\n",
       "      <th>Pregnancies</th>\n",
       "      <th>Glucose</th>\n",
       "      <th>BloodPressure</th>\n",
       "      <th>SkinThickness</th>\n",
       "      <th>Insulin</th>\n",
       "      <th>BMI</th>\n",
       "      <th>DiabetesPedigreeFunction</th>\n",
       "      <th>Age</th>\n",
       "      <th>Outcome</th>\n",
       "    </tr>\n",
       "  </thead>\n",
       "  <tbody>\n",
       "    <tr>\n",
       "      <th>763</th>\n",
       "      <td>10</td>\n",
       "      <td>101</td>\n",
       "      <td>76</td>\n",
       "      <td>48</td>\n",
       "      <td>180</td>\n",
       "      <td>32.9</td>\n",
       "      <td>0.171</td>\n",
       "      <td>63</td>\n",
       "      <td>0</td>\n",
       "    </tr>\n",
       "    <tr>\n",
       "      <th>764</th>\n",
       "      <td>2</td>\n",
       "      <td>122</td>\n",
       "      <td>70</td>\n",
       "      <td>27</td>\n",
       "      <td>0</td>\n",
       "      <td>36.8</td>\n",
       "      <td>0.340</td>\n",
       "      <td>27</td>\n",
       "      <td>0</td>\n",
       "    </tr>\n",
       "    <tr>\n",
       "      <th>765</th>\n",
       "      <td>5</td>\n",
       "      <td>121</td>\n",
       "      <td>72</td>\n",
       "      <td>23</td>\n",
       "      <td>112</td>\n",
       "      <td>26.2</td>\n",
       "      <td>0.245</td>\n",
       "      <td>30</td>\n",
       "      <td>0</td>\n",
       "    </tr>\n",
       "    <tr>\n",
       "      <th>766</th>\n",
       "      <td>1</td>\n",
       "      <td>126</td>\n",
       "      <td>60</td>\n",
       "      <td>0</td>\n",
       "      <td>0</td>\n",
       "      <td>30.1</td>\n",
       "      <td>0.349</td>\n",
       "      <td>47</td>\n",
       "      <td>1</td>\n",
       "    </tr>\n",
       "    <tr>\n",
       "      <th>767</th>\n",
       "      <td>1</td>\n",
       "      <td>93</td>\n",
       "      <td>70</td>\n",
       "      <td>31</td>\n",
       "      <td>0</td>\n",
       "      <td>30.4</td>\n",
       "      <td>0.315</td>\n",
       "      <td>23</td>\n",
       "      <td>0</td>\n",
       "    </tr>\n",
       "  </tbody>\n",
       "</table>\n",
       "</div>"
      ],
      "text/plain": [
       "     Pregnancies  Glucose  BloodPressure  SkinThickness  Insulin   BMI  \\\n",
       "763           10      101             76             48      180  32.9   \n",
       "764            2      122             70             27        0  36.8   \n",
       "765            5      121             72             23      112  26.2   \n",
       "766            1      126             60              0        0  30.1   \n",
       "767            1       93             70             31        0  30.4   \n",
       "\n",
       "     DiabetesPedigreeFunction  Age  Outcome  \n",
       "763                     0.171   63        0  \n",
       "764                     0.340   27        0  \n",
       "765                     0.245   30        0  \n",
       "766                     0.349   47        1  \n",
       "767                     0.315   23        0  "
      ]
     },
     "execution_count": 31,
     "metadata": {},
     "output_type": "execute_result"
    }
   ],
   "source": [
    "diabetes.tail()"
   ]
  },
  {
   "cell_type": "code",
   "execution_count": 32,
   "id": "52f19e5c",
   "metadata": {},
   "outputs": [
    {
     "data": {
      "text/plain": [
       "array([1], dtype=int64)"
      ]
     },
     "execution_count": 32,
     "metadata": {},
     "output_type": "execute_result"
    }
   ],
   "source": [
    "rfc.predict([[0,137,40,35,168,43.1,2.228,33]]) #4th patient"
   ]
  },
  {
   "cell_type": "code",
   "execution_count": 33,
   "id": "2def0417",
   "metadata": {},
   "outputs": [
    {
     "data": {
      "text/plain": [
       "array([0], dtype=int64)"
      ]
     },
     "execution_count": 33,
     "metadata": {},
     "output_type": "execute_result"
    }
   ],
   "source": [
    "rfc.predict([[10,101,76,48,180,32.9,0.171,63]])  # 763 th patient"
   ]
  }
 ],
 "metadata": {
  "kernelspec": {
   "display_name": "Python 3 (ipykernel)",
   "language": "python",
   "name": "python3"
  },
  "language_info": {
   "codemirror_mode": {
    "name": "ipython",
    "version": 3
   },
   "file_extension": ".py",
   "mimetype": "text/x-python",
   "name": "python",
   "nbconvert_exporter": "python",
   "pygments_lexer": "ipython3",
   "version": "3.9.7"
  }
 },
 "nbformat": 4,
 "nbformat_minor": 5
}
