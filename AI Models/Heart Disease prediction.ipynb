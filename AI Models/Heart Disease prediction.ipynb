{
 "cells": [
  {
   "cell_type": "code",
   "execution_count": 1,
   "id": "d044c576",
   "metadata": {
    "execution": {
     "iopub.execute_input": "2023-04-14T16:41:11.219794Z",
     "iopub.status.busy": "2023-04-14T16:41:11.219351Z",
     "iopub.status.idle": "2023-04-14T16:41:12.271065Z",
     "shell.execute_reply": "2023-04-14T16:41:12.270103Z"
    },
    "papermill": {
     "duration": 1.065566,
     "end_time": "2023-04-14T16:41:12.273676",
     "exception": false,
     "start_time": "2023-04-14T16:41:11.208110",
     "status": "completed"
    },
    "tags": []
   },
   "outputs": [],
   "source": [
    "import pandas as pd\n",
    "import numpy as np\n",
    "import sklearn as sn\n",
    "import matplotlib.pyplot as plt\n",
    "import pylab as pl\n",
    "from sklearn import preprocessing"
   ]
  },
  {
   "cell_type": "code",
   "execution_count": 2,
   "id": "77f58962",
   "metadata": {
    "execution": {
     "iopub.execute_input": "2023-04-14T16:41:12.308334Z",
     "iopub.status.busy": "2023-04-14T16:41:12.307623Z",
     "iopub.status.idle": "2023-04-14T16:41:12.330550Z",
     "shell.execute_reply": "2023-04-14T16:41:12.329198Z"
    },
    "papermill": {
     "duration": 0.035836,
     "end_time": "2023-04-14T16:41:12.333735",
     "exception": false,
     "start_time": "2023-04-14T16:41:12.297899",
     "status": "completed"
    },
    "tags": []
   },
   "outputs": [],
   "source": [
    "#read data\n",
    "df = pd.read_csv(\"heart.csv\")"
   ]
  },
  {
   "cell_type": "code",
   "execution_count": 3,
   "id": "2d3e788a",
   "metadata": {
    "execution": {
     "iopub.execute_input": "2023-04-14T16:41:12.352483Z",
     "iopub.status.busy": "2023-04-14T16:41:12.352074Z",
     "iopub.status.idle": "2023-04-14T16:41:12.382010Z",
     "shell.execute_reply": "2023-04-14T16:41:12.380573Z"
    },
    "papermill": {
     "duration": 0.042151,
     "end_time": "2023-04-14T16:41:12.384567",
     "exception": false,
     "start_time": "2023-04-14T16:41:12.342416",
     "status": "completed"
    },
    "tags": []
   },
   "outputs": [
    {
     "data": {
      "text/html": [
       "<div>\n",
       "<style scoped>\n",
       "    .dataframe tbody tr th:only-of-type {\n",
       "        vertical-align: middle;\n",
       "    }\n",
       "\n",
       "    .dataframe tbody tr th {\n",
       "        vertical-align: top;\n",
       "    }\n",
       "\n",
       "    .dataframe thead th {\n",
       "        text-align: right;\n",
       "    }\n",
       "</style>\n",
       "<table border=\"1\" class=\"dataframe\">\n",
       "  <thead>\n",
       "    <tr style=\"text-align: right;\">\n",
       "      <th></th>\n",
       "      <th>age</th>\n",
       "      <th>sex</th>\n",
       "      <th>cp</th>\n",
       "      <th>trestbps</th>\n",
       "      <th>chol</th>\n",
       "      <th>fbs</th>\n",
       "      <th>restecg</th>\n",
       "      <th>thalach</th>\n",
       "      <th>exang</th>\n",
       "      <th>oldpeak</th>\n",
       "      <th>slope</th>\n",
       "      <th>ca</th>\n",
       "      <th>thal</th>\n",
       "      <th>target</th>\n",
       "    </tr>\n",
       "  </thead>\n",
       "  <tbody>\n",
       "    <tr>\n",
       "      <th>0</th>\n",
       "      <td>52</td>\n",
       "      <td>1</td>\n",
       "      <td>0</td>\n",
       "      <td>125</td>\n",
       "      <td>212</td>\n",
       "      <td>0</td>\n",
       "      <td>1</td>\n",
       "      <td>168</td>\n",
       "      <td>0</td>\n",
       "      <td>1.0</td>\n",
       "      <td>2</td>\n",
       "      <td>2</td>\n",
       "      <td>3</td>\n",
       "      <td>0</td>\n",
       "    </tr>\n",
       "    <tr>\n",
       "      <th>1</th>\n",
       "      <td>53</td>\n",
       "      <td>1</td>\n",
       "      <td>0</td>\n",
       "      <td>140</td>\n",
       "      <td>203</td>\n",
       "      <td>1</td>\n",
       "      <td>0</td>\n",
       "      <td>155</td>\n",
       "      <td>1</td>\n",
       "      <td>3.1</td>\n",
       "      <td>0</td>\n",
       "      <td>0</td>\n",
       "      <td>3</td>\n",
       "      <td>0</td>\n",
       "    </tr>\n",
       "    <tr>\n",
       "      <th>2</th>\n",
       "      <td>70</td>\n",
       "      <td>1</td>\n",
       "      <td>0</td>\n",
       "      <td>145</td>\n",
       "      <td>174</td>\n",
       "      <td>0</td>\n",
       "      <td>1</td>\n",
       "      <td>125</td>\n",
       "      <td>1</td>\n",
       "      <td>2.6</td>\n",
       "      <td>0</td>\n",
       "      <td>0</td>\n",
       "      <td>3</td>\n",
       "      <td>0</td>\n",
       "    </tr>\n",
       "    <tr>\n",
       "      <th>3</th>\n",
       "      <td>61</td>\n",
       "      <td>1</td>\n",
       "      <td>0</td>\n",
       "      <td>148</td>\n",
       "      <td>203</td>\n",
       "      <td>0</td>\n",
       "      <td>1</td>\n",
       "      <td>161</td>\n",
       "      <td>0</td>\n",
       "      <td>0.0</td>\n",
       "      <td>2</td>\n",
       "      <td>1</td>\n",
       "      <td>3</td>\n",
       "      <td>0</td>\n",
       "    </tr>\n",
       "    <tr>\n",
       "      <th>4</th>\n",
       "      <td>62</td>\n",
       "      <td>0</td>\n",
       "      <td>0</td>\n",
       "      <td>138</td>\n",
       "      <td>294</td>\n",
       "      <td>1</td>\n",
       "      <td>1</td>\n",
       "      <td>106</td>\n",
       "      <td>0</td>\n",
       "      <td>1.9</td>\n",
       "      <td>1</td>\n",
       "      <td>3</td>\n",
       "      <td>2</td>\n",
       "      <td>0</td>\n",
       "    </tr>\n",
       "  </tbody>\n",
       "</table>\n",
       "</div>"
      ],
      "text/plain": [
       "   age  sex  cp  trestbps  chol  fbs  restecg  thalach  exang  oldpeak  slope  \\\n",
       "0   52    1   0       125   212    0        1      168      0      1.0      2   \n",
       "1   53    1   0       140   203    1        0      155      1      3.1      0   \n",
       "2   70    1   0       145   174    0        1      125      1      2.6      0   \n",
       "3   61    1   0       148   203    0        1      161      0      0.0      2   \n",
       "4   62    0   0       138   294    1        1      106      0      1.9      1   \n",
       "\n",
       "   ca  thal  target  \n",
       "0   2     3       0  \n",
       "1   0     3       0  \n",
       "2   0     3       0  \n",
       "3   1     3       0  \n",
       "4   3     2       0  "
      ]
     },
     "execution_count": 3,
     "metadata": {},
     "output_type": "execute_result"
    }
   ],
   "source": [
    "df.head()"
   ]
  },
  {
   "cell_type": "code",
   "execution_count": 4,
   "id": "a43a2ff3",
   "metadata": {
    "execution": {
     "iopub.execute_input": "2023-04-14T16:41:12.404528Z",
     "iopub.status.busy": "2023-04-14T16:41:12.403321Z",
     "iopub.status.idle": "2023-04-14T16:41:12.410750Z",
     "shell.execute_reply": "2023-04-14T16:41:12.409836Z"
    },
    "papermill": {
     "duration": 0.019154,
     "end_time": "2023-04-14T16:41:12.413043",
     "exception": false,
     "start_time": "2023-04-14T16:41:12.393889",
     "status": "completed"
    },
    "tags": []
   },
   "outputs": [
    {
     "data": {
      "text/plain": [
       "(1025, 14)"
      ]
     },
     "execution_count": 4,
     "metadata": {},
     "output_type": "execute_result"
    }
   ],
   "source": [
    "df.shape"
   ]
  },
  {
   "cell_type": "code",
   "execution_count": 5,
   "id": "8c68ff28",
   "metadata": {
    "execution": {
     "iopub.execute_input": "2023-04-14T16:41:12.432735Z",
     "iopub.status.busy": "2023-04-14T16:41:12.431924Z",
     "iopub.status.idle": "2023-04-14T16:41:12.457872Z",
     "shell.execute_reply": "2023-04-14T16:41:12.456447Z"
    },
    "papermill": {
     "duration": 0.038846,
     "end_time": "2023-04-14T16:41:12.460401",
     "exception": false,
     "start_time": "2023-04-14T16:41:12.421555",
     "status": "completed"
    },
    "tags": []
   },
   "outputs": [
    {
     "name": "stdout",
     "output_type": "stream",
     "text": [
      "<class 'pandas.core.frame.DataFrame'>\n",
      "RangeIndex: 1025 entries, 0 to 1024\n",
      "Data columns (total 14 columns):\n",
      " #   Column    Non-Null Count  Dtype  \n",
      "---  ------    --------------  -----  \n",
      " 0   age       1025 non-null   int64  \n",
      " 1   sex       1025 non-null   int64  \n",
      " 2   cp        1025 non-null   int64  \n",
      " 3   trestbps  1025 non-null   int64  \n",
      " 4   chol      1025 non-null   int64  \n",
      " 5   fbs       1025 non-null   int64  \n",
      " 6   restecg   1025 non-null   int64  \n",
      " 7   thalach   1025 non-null   int64  \n",
      " 8   exang     1025 non-null   int64  \n",
      " 9   oldpeak   1025 non-null   float64\n",
      " 10  slope     1025 non-null   int64  \n",
      " 11  ca        1025 non-null   int64  \n",
      " 12  thal      1025 non-null   int64  \n",
      " 13  target    1025 non-null   int64  \n",
      "dtypes: float64(1), int64(13)\n",
      "memory usage: 112.2 KB\n"
     ]
    }
   ],
   "source": [
    "df.info()"
   ]
  },
  {
   "cell_type": "code",
   "execution_count": 6,
   "id": "7211afc5",
   "metadata": {
    "execution": {
     "iopub.execute_input": "2023-04-14T16:41:12.480629Z",
     "iopub.status.busy": "2023-04-14T16:41:12.479315Z",
     "iopub.status.idle": "2023-04-14T16:41:12.534799Z",
     "shell.execute_reply": "2023-04-14T16:41:12.533603Z"
    },
    "papermill": {
     "duration": 0.068385,
     "end_time": "2023-04-14T16:41:12.537612",
     "exception": false,
     "start_time": "2023-04-14T16:41:12.469227",
     "status": "completed"
    },
    "tags": []
   },
   "outputs": [
    {
     "data": {
      "text/html": [
       "<div>\n",
       "<style scoped>\n",
       "    .dataframe tbody tr th:only-of-type {\n",
       "        vertical-align: middle;\n",
       "    }\n",
       "\n",
       "    .dataframe tbody tr th {\n",
       "        vertical-align: top;\n",
       "    }\n",
       "\n",
       "    .dataframe thead th {\n",
       "        text-align: right;\n",
       "    }\n",
       "</style>\n",
       "<table border=\"1\" class=\"dataframe\">\n",
       "  <thead>\n",
       "    <tr style=\"text-align: right;\">\n",
       "      <th></th>\n",
       "      <th>age</th>\n",
       "      <th>sex</th>\n",
       "      <th>cp</th>\n",
       "      <th>trestbps</th>\n",
       "      <th>chol</th>\n",
       "      <th>fbs</th>\n",
       "      <th>restecg</th>\n",
       "      <th>thalach</th>\n",
       "      <th>exang</th>\n",
       "      <th>oldpeak</th>\n",
       "      <th>slope</th>\n",
       "      <th>ca</th>\n",
       "      <th>thal</th>\n",
       "      <th>target</th>\n",
       "    </tr>\n",
       "  </thead>\n",
       "  <tbody>\n",
       "    <tr>\n",
       "      <th>count</th>\n",
       "      <td>1025.000000</td>\n",
       "      <td>1025.000000</td>\n",
       "      <td>1025.000000</td>\n",
       "      <td>1025.000000</td>\n",
       "      <td>1025.00000</td>\n",
       "      <td>1025.000000</td>\n",
       "      <td>1025.000000</td>\n",
       "      <td>1025.000000</td>\n",
       "      <td>1025.000000</td>\n",
       "      <td>1025.000000</td>\n",
       "      <td>1025.000000</td>\n",
       "      <td>1025.000000</td>\n",
       "      <td>1025.000000</td>\n",
       "      <td>1025.000000</td>\n",
       "    </tr>\n",
       "    <tr>\n",
       "      <th>mean</th>\n",
       "      <td>54.434146</td>\n",
       "      <td>0.695610</td>\n",
       "      <td>0.942439</td>\n",
       "      <td>131.611707</td>\n",
       "      <td>246.00000</td>\n",
       "      <td>0.149268</td>\n",
       "      <td>0.529756</td>\n",
       "      <td>149.114146</td>\n",
       "      <td>0.336585</td>\n",
       "      <td>1.071512</td>\n",
       "      <td>1.385366</td>\n",
       "      <td>0.754146</td>\n",
       "      <td>2.323902</td>\n",
       "      <td>0.513171</td>\n",
       "    </tr>\n",
       "    <tr>\n",
       "      <th>std</th>\n",
       "      <td>9.072290</td>\n",
       "      <td>0.460373</td>\n",
       "      <td>1.029641</td>\n",
       "      <td>17.516718</td>\n",
       "      <td>51.59251</td>\n",
       "      <td>0.356527</td>\n",
       "      <td>0.527878</td>\n",
       "      <td>23.005724</td>\n",
       "      <td>0.472772</td>\n",
       "      <td>1.175053</td>\n",
       "      <td>0.617755</td>\n",
       "      <td>1.030798</td>\n",
       "      <td>0.620660</td>\n",
       "      <td>0.500070</td>\n",
       "    </tr>\n",
       "    <tr>\n",
       "      <th>min</th>\n",
       "      <td>29.000000</td>\n",
       "      <td>0.000000</td>\n",
       "      <td>0.000000</td>\n",
       "      <td>94.000000</td>\n",
       "      <td>126.00000</td>\n",
       "      <td>0.000000</td>\n",
       "      <td>0.000000</td>\n",
       "      <td>71.000000</td>\n",
       "      <td>0.000000</td>\n",
       "      <td>0.000000</td>\n",
       "      <td>0.000000</td>\n",
       "      <td>0.000000</td>\n",
       "      <td>0.000000</td>\n",
       "      <td>0.000000</td>\n",
       "    </tr>\n",
       "    <tr>\n",
       "      <th>25%</th>\n",
       "      <td>48.000000</td>\n",
       "      <td>0.000000</td>\n",
       "      <td>0.000000</td>\n",
       "      <td>120.000000</td>\n",
       "      <td>211.00000</td>\n",
       "      <td>0.000000</td>\n",
       "      <td>0.000000</td>\n",
       "      <td>132.000000</td>\n",
       "      <td>0.000000</td>\n",
       "      <td>0.000000</td>\n",
       "      <td>1.000000</td>\n",
       "      <td>0.000000</td>\n",
       "      <td>2.000000</td>\n",
       "      <td>0.000000</td>\n",
       "    </tr>\n",
       "    <tr>\n",
       "      <th>50%</th>\n",
       "      <td>56.000000</td>\n",
       "      <td>1.000000</td>\n",
       "      <td>1.000000</td>\n",
       "      <td>130.000000</td>\n",
       "      <td>240.00000</td>\n",
       "      <td>0.000000</td>\n",
       "      <td>1.000000</td>\n",
       "      <td>152.000000</td>\n",
       "      <td>0.000000</td>\n",
       "      <td>0.800000</td>\n",
       "      <td>1.000000</td>\n",
       "      <td>0.000000</td>\n",
       "      <td>2.000000</td>\n",
       "      <td>1.000000</td>\n",
       "    </tr>\n",
       "    <tr>\n",
       "      <th>75%</th>\n",
       "      <td>61.000000</td>\n",
       "      <td>1.000000</td>\n",
       "      <td>2.000000</td>\n",
       "      <td>140.000000</td>\n",
       "      <td>275.00000</td>\n",
       "      <td>0.000000</td>\n",
       "      <td>1.000000</td>\n",
       "      <td>166.000000</td>\n",
       "      <td>1.000000</td>\n",
       "      <td>1.800000</td>\n",
       "      <td>2.000000</td>\n",
       "      <td>1.000000</td>\n",
       "      <td>3.000000</td>\n",
       "      <td>1.000000</td>\n",
       "    </tr>\n",
       "    <tr>\n",
       "      <th>max</th>\n",
       "      <td>77.000000</td>\n",
       "      <td>1.000000</td>\n",
       "      <td>3.000000</td>\n",
       "      <td>200.000000</td>\n",
       "      <td>564.00000</td>\n",
       "      <td>1.000000</td>\n",
       "      <td>2.000000</td>\n",
       "      <td>202.000000</td>\n",
       "      <td>1.000000</td>\n",
       "      <td>6.200000</td>\n",
       "      <td>2.000000</td>\n",
       "      <td>4.000000</td>\n",
       "      <td>3.000000</td>\n",
       "      <td>1.000000</td>\n",
       "    </tr>\n",
       "  </tbody>\n",
       "</table>\n",
       "</div>"
      ],
      "text/plain": [
       "               age          sex           cp     trestbps        chol  \\\n",
       "count  1025.000000  1025.000000  1025.000000  1025.000000  1025.00000   \n",
       "mean     54.434146     0.695610     0.942439   131.611707   246.00000   \n",
       "std       9.072290     0.460373     1.029641    17.516718    51.59251   \n",
       "min      29.000000     0.000000     0.000000    94.000000   126.00000   \n",
       "25%      48.000000     0.000000     0.000000   120.000000   211.00000   \n",
       "50%      56.000000     1.000000     1.000000   130.000000   240.00000   \n",
       "75%      61.000000     1.000000     2.000000   140.000000   275.00000   \n",
       "max      77.000000     1.000000     3.000000   200.000000   564.00000   \n",
       "\n",
       "               fbs      restecg      thalach        exang      oldpeak  \\\n",
       "count  1025.000000  1025.000000  1025.000000  1025.000000  1025.000000   \n",
       "mean      0.149268     0.529756   149.114146     0.336585     1.071512   \n",
       "std       0.356527     0.527878    23.005724     0.472772     1.175053   \n",
       "min       0.000000     0.000000    71.000000     0.000000     0.000000   \n",
       "25%       0.000000     0.000000   132.000000     0.000000     0.000000   \n",
       "50%       0.000000     1.000000   152.000000     0.000000     0.800000   \n",
       "75%       0.000000     1.000000   166.000000     1.000000     1.800000   \n",
       "max       1.000000     2.000000   202.000000     1.000000     6.200000   \n",
       "\n",
       "             slope           ca         thal       target  \n",
       "count  1025.000000  1025.000000  1025.000000  1025.000000  \n",
       "mean      1.385366     0.754146     2.323902     0.513171  \n",
       "std       0.617755     1.030798     0.620660     0.500070  \n",
       "min       0.000000     0.000000     0.000000     0.000000  \n",
       "25%       1.000000     0.000000     2.000000     0.000000  \n",
       "50%       1.000000     0.000000     2.000000     1.000000  \n",
       "75%       2.000000     1.000000     3.000000     1.000000  \n",
       "max       2.000000     4.000000     3.000000     1.000000  "
      ]
     },
     "execution_count": 6,
     "metadata": {},
     "output_type": "execute_result"
    }
   ],
   "source": [
    "df.describe()"
   ]
  },
  {
   "cell_type": "code",
   "execution_count": 7,
   "id": "c3b14382",
   "metadata": {
    "execution": {
     "iopub.execute_input": "2023-04-14T16:41:12.559018Z",
     "iopub.status.busy": "2023-04-14T16:41:12.558587Z",
     "iopub.status.idle": "2023-04-14T16:41:12.568070Z",
     "shell.execute_reply": "2023-04-14T16:41:12.566883Z"
    },
    "papermill": {
     "duration": 0.022675,
     "end_time": "2023-04-14T16:41:12.570453",
     "exception": false,
     "start_time": "2023-04-14T16:41:12.547778",
     "status": "completed"
    },
    "tags": []
   },
   "outputs": [
    {
     "data": {
      "text/plain": [
       "age         0\n",
       "sex         0\n",
       "cp          0\n",
       "trestbps    0\n",
       "chol        0\n",
       "fbs         0\n",
       "restecg     0\n",
       "thalach     0\n",
       "exang       0\n",
       "oldpeak     0\n",
       "slope       0\n",
       "ca          0\n",
       "thal        0\n",
       "target      0\n",
       "dtype: int64"
      ]
     },
     "execution_count": 7,
     "metadata": {},
     "output_type": "execute_result"
    }
   ],
   "source": [
    "df.isna().sum()"
   ]
  },
  {
   "cell_type": "code",
   "execution_count": 8,
   "id": "8d6eae55",
   "metadata": {
    "execution": {
     "iopub.execute_input": "2023-04-14T16:41:12.590805Z",
     "iopub.status.busy": "2023-04-14T16:41:12.590116Z",
     "iopub.status.idle": "2023-04-14T16:41:12.598862Z",
     "shell.execute_reply": "2023-04-14T16:41:12.597665Z"
    },
    "papermill": {
     "duration": 0.021579,
     "end_time": "2023-04-14T16:41:12.601193",
     "exception": false,
     "start_time": "2023-04-14T16:41:12.579614",
     "status": "completed"
    },
    "tags": []
   },
   "outputs": [
    {
     "data": {
      "text/plain": [
       "1    526\n",
       "0    499\n",
       "Name: target, dtype: int64"
      ]
     },
     "execution_count": 8,
     "metadata": {},
     "output_type": "execute_result"
    }
   ],
   "source": [
    "df['target'].value_counts()"
   ]
  },
  {
   "cell_type": "markdown",
   "id": "136d2860",
   "metadata": {
    "papermill": {
     "duration": 0.009149,
     "end_time": "2023-04-14T16:41:12.619552",
     "exception": false,
     "start_time": "2023-04-14T16:41:12.610403",
     "status": "completed"
    },
    "tags": []
   },
   "source": [
    "### Data visualization and analysis"
   ]
  },
  {
   "cell_type": "code",
   "execution_count": 9,
   "id": "7a9007a4",
   "metadata": {
    "execution": {
     "iopub.execute_input": "2023-04-14T16:41:12.658454Z",
     "iopub.status.busy": "2023-04-14T16:41:12.658035Z",
     "iopub.status.idle": "2023-04-14T16:41:13.061888Z",
     "shell.execute_reply": "2023-04-14T16:41:13.060473Z"
    },
    "papermill": {
     "duration": 0.417506,
     "end_time": "2023-04-14T16:41:13.064623",
     "exception": false,
     "start_time": "2023-04-14T16:41:12.647117",
     "status": "completed"
    },
    "tags": []
   },
   "outputs": [
    {
     "data": {
      "text/plain": [
       "array([[<AxesSubplot:title={'center':'age'}>]], dtype=object)"
      ]
     },
     "execution_count": 9,
     "metadata": {},
     "output_type": "execute_result"
    },
    {
     "data": {
      "image/png": "[encoded data removed]",
      "text/plain": [
       "<Figure size 432x288 with 1 Axes>"
      ]
     },
     "metadata": {
      "needs_background": "light"
     },
     "output_type": "display_data"
    }
   ],
   "source": [
    "df.hist(column='age', bins= 50)"
   ]
  },
  {
   "cell_type": "code",
   "execution_count": 10,
   "id": "29469439",
   "metadata": {
    "execution": {
     "iopub.execute_input": "2023-04-14T16:41:13.106236Z",
     "iopub.status.busy": "2023-04-14T16:41:13.105003Z",
     "iopub.status.idle": "2023-04-14T16:41:13.113172Z",
     "shell.execute_reply": "2023-04-14T16:41:13.111991Z"
    },
    "papermill": {
     "duration": 0.021532,
     "end_time": "2023-04-14T16:41:13.115367",
     "exception": false,
     "start_time": "2023-04-14T16:41:13.093835",
     "status": "completed"
    },
    "tags": []
   },
   "outputs": [
    {
     "data": {
      "text/plain": [
       "Index(['age', 'sex', 'cp', 'trestbps', 'chol', 'fbs', 'restecg', 'thalach',\n",
       "       'exang', 'oldpeak', 'slope', 'ca', 'thal', 'target'],\n",
       "      dtype='object')"
      ]
     },
     "execution_count": 10,
     "metadata": {},
     "output_type": "execute_result"
    }
   ],
   "source": [
    "df.columns"
   ]
  },
  {
   "cell_type": "code",
   "execution_count": 11,
   "id": "64d41f85",
   "metadata": {
    "execution": {
     "iopub.execute_input": "2023-04-14T16:41:13.156508Z",
     "iopub.status.busy": "2023-04-14T16:41:13.155830Z",
     "iopub.status.idle": "2023-04-14T16:41:13.166213Z",
     "shell.execute_reply": "2023-04-14T16:41:13.165026Z"
    },
    "papermill": {
     "duration": 0.023948,
     "end_time": "2023-04-14T16:41:13.168585",
     "exception": false,
     "start_time": "2023-04-14T16:41:13.144637",
     "status": "completed"
    },
    "tags": []
   },
   "outputs": [
    {
     "data": {
      "text/plain": [
       "array([[ 52. ,   1. ,   0. , 125. , 212. ,   0. ,   1. , 168. ,   0. ,\n",
       "          1. ,   2. ,   2. ,   3. ],\n",
       "       [ 53. ,   1. ,   0. , 140. , 203. ,   1. ,   0. , 155. ,   1. ,\n",
       "          3.1,   0. ,   0. ,   3. ],\n",
       "       [ 70. ,   1. ,   0. , 145. , 174. ,   0. ,   1. , 125. ,   1. ,\n",
       "          2.6,   0. ,   0. ,   3. ],\n",
       "       [ 61. ,   1. ,   0. , 148. , 203. ,   0. ,   1. , 161. ,   0. ,\n",
       "          0. ,   2. ,   1. ,   3. ],\n",
       "       [ 62. ,   0. ,   0. , 138. , 294. ,   1. ,   1. , 106. ,   0. ,\n",
       "          1.9,   1. ,   3. ,   2. ]])"
      ]
     },
     "execution_count": 11,
     "metadata": {},
     "output_type": "execute_result"
    }
   ],
   "source": [
    "x= df[['age', 'sex', 'cp', 'trestbps', 'chol', 'fbs', 'restecg', 'thalach',\n",
    "       'exang', 'oldpeak', 'slope', 'ca', 'thal']].values\n",
    "x[0:5]"
   ]
  },
  {
   "cell_type": "code",
   "execution_count": 12,
   "id": "b33fbd73",
   "metadata": {
    "execution": {
     "iopub.execute_input": "2023-04-14T16:41:13.190897Z",
     "iopub.status.busy": "2023-04-14T16:41:13.190457Z",
     "iopub.status.idle": "2023-04-14T16:41:13.197625Z",
     "shell.execute_reply": "2023-04-14T16:41:13.196402Z"
    },
    "papermill": {
     "duration": 0.02159,
     "end_time": "2023-04-14T16:41:13.200083",
     "exception": false,
     "start_time": "2023-04-14T16:41:13.178493",
     "status": "completed"
    },
    "tags": []
   },
   "outputs": [
    {
     "data": {
      "text/plain": [
       "array([0, 0, 0, 0, 0], dtype=int64)"
      ]
     },
     "execution_count": 12,
     "metadata": {},
     "output_type": "execute_result"
    }
   ],
   "source": [
    "y= df['target'].values\n",
    "y[0:5]"
   ]
  },
  {
   "cell_type": "markdown",
   "id": "ab52aac5",
   "metadata": {
    "papermill": {
     "duration": 0.009597,
     "end_time": "2023-04-14T16:41:13.219787",
     "exception": false,
     "start_time": "2023-04-14T16:41:13.210190",
     "status": "completed"
    },
    "tags": []
   },
   "source": [
    "### Normalize Data"
   ]
  },
  {
   "cell_type": "code",
   "execution_count": 13,
   "id": "53aaeff0",
   "metadata": {
    "execution": {
     "iopub.execute_input": "2023-04-14T16:41:13.281303Z",
     "iopub.status.busy": "2023-04-14T16:41:13.280200Z",
     "iopub.status.idle": "2023-04-14T16:41:13.293317Z",
     "shell.execute_reply": "2023-04-14T16:41:13.292132Z"
    },
    "papermill": {
     "duration": 0.027161,
     "end_time": "2023-04-14T16:41:13.296158",
     "exception": false,
     "start_time": "2023-04-14T16:41:13.268997",
     "status": "completed"
    },
    "tags": []
   },
   "outputs": [
    {
     "name": "stdout",
     "output_type": "stream",
     "text": [
      "[[ 52.    1.    0.  125.  212.    0.    1.  168.    0.    1.    2.    2.\n",
      "    3. ]\n",
      " [ 53.    1.    0.  140.  203.    1.    0.  155.    1.    3.1   0.    0.\n",
      "    3. ]\n",
      " [ 70.    1.    0.  145.  174.    0.    1.  125.    1.    2.6   0.    0.\n",
      "    3. ]\n",
      " [ 61.    1.    0.  148.  203.    0.    1.  161.    0.    0.    2.    1.\n",
      "    3. ]\n",
      " [ 62.    0.    0.  138.  294.    1.    1.  106.    0.    1.9   1.    3.\n",
      "    2. ]]\n"
     ]
    },
    {
     "data": {
      "text/plain": [
       "array([[-0.26843658,  0.66150409, -0.91575542, -0.37763552, -0.65933209,\n",
       "        -0.41887792,  0.89125488,  0.82132052, -0.71228712, -0.06088839,\n",
       "         0.99543334,  1.20922066,  1.08985168],\n",
       "       [-0.15815703,  0.66150409, -0.91575542,  0.4791073 , -0.83386117,\n",
       "         2.38733039, -1.00404855,  0.2559679 ,  1.40392824,  1.72713707,\n",
       "        -2.24367514, -0.73197147,  1.08985168],\n",
       "       [ 1.71659547,  0.66150409, -0.91575542,  0.76468824, -1.39623266,\n",
       "        -0.41887792,  0.89125488, -1.04869198,  1.40392824,  1.30141672,\n",
       "        -2.24367514, -0.73197147,  1.08985168],\n",
       "       [ 0.72407944,  0.66150409, -0.91575542,  0.93603681, -0.83386117,\n",
       "        -0.41887792,  0.89125488,  0.51689988, -0.71228712, -0.91232909,\n",
       "         0.99543334,  0.23862459,  1.08985168],\n",
       "       [ 0.834359  , -1.51170646, -0.91575542,  0.36487493,  0.93082177,\n",
       "         2.38733039,  0.89125488, -1.87497657, -0.71228712,  0.70540823,\n",
       "        -0.6241209 ,  2.17981673, -0.52212231]])"
      ]
     },
     "execution_count": 13,
     "metadata": {},
     "output_type": "execute_result"
    }
   ],
   "source": [
    "#define our scaler\n",
    "print (x[0:5])\n",
    "scaler= preprocessing.StandardScaler().fit(x)\n",
    "x= scaler.transform(x.astype(float))\n",
    "x[0:5]"
   ]
  },
  {
   "cell_type": "code",
   "execution_count": 14,
   "id": "4a5a653d",
   "metadata": {
    "execution": {
     "iopub.execute_input": "2023-04-14T16:41:13.340097Z",
     "iopub.status.busy": "2023-04-14T16:41:13.339614Z",
     "iopub.status.idle": "2023-04-14T16:41:13.414286Z",
     "shell.execute_reply": "2023-04-14T16:41:13.412781Z"
    },
    "papermill": {
     "duration": 0.088866,
     "end_time": "2023-04-14T16:41:13.416797",
     "exception": false,
     "start_time": "2023-04-14T16:41:13.327931",
     "status": "completed"
    },
    "tags": []
   },
   "outputs": [
    {
     "name": "stdout",
     "output_type": "stream",
     "text": [
      "Train set:  (820, 13) (820,)\n",
      "Test set: (205, 13) (205,)\n"
     ]
    }
   ],
   "source": [
    "#spliting data\n",
    "from sklearn.model_selection import train_test_split\n",
    "x_train, x_test, y_train, y_test = train_test_split (x, y , test_size= 0.2 , random_state= 4)\n",
    "print ('Train set: ', x_train.shape, y_train.shape)\n",
    "print ('Test set:', x_test.shape, y_test.shape)"
   ]
  },
  {
   "cell_type": "markdown",
   "id": "5ae6938e",
   "metadata": {
    "papermill": {
     "duration": 0.00993,
     "end_time": "2023-04-14T16:41:13.457406",
     "exception": false,
     "start_time": "2023-04-14T16:41:13.447476",
     "status": "completed"
    },
    "tags": []
   },
   "source": [
    "### Classification"
   ]
  },
  {
   "cell_type": "markdown",
   "id": "322ac721",
   "metadata": {
    "papermill": {
     "duration": 0.00984,
     "end_time": "2023-04-14T16:41:13.477477",
     "exception": false,
     "start_time": "2023-04-14T16:41:13.467637",
     "status": "completed"
    },
    "tags": []
   },
   "source": [
    "#### K nearest neighbor (KNN)"
   ]
  },
  {
   "cell_type": "code",
   "execution_count": 15,
   "id": "3ea45667",
   "metadata": {
    "execution": {
     "iopub.execute_input": "2023-04-14T16:41:13.520483Z",
     "iopub.status.busy": "2023-04-14T16:41:13.520056Z",
     "iopub.status.idle": "2023-04-14T16:41:13.710161Z",
     "shell.execute_reply": "2023-04-14T16:41:13.709060Z"
    },
    "papermill": {
     "duration": 0.204886,
     "end_time": "2023-04-14T16:41:13.713084",
     "exception": false,
     "start_time": "2023-04-14T16:41:13.508198",
     "status": "completed"
    },
    "tags": []
   },
   "outputs": [],
   "source": [
    "#import library\n",
    "from sklearn.neighbors import KNeighborsClassifier"
   ]
  },
  {
   "cell_type": "code",
   "execution_count": 16,
   "id": "49565858",
   "metadata": {
    "execution": {
     "iopub.execute_input": "2023-04-14T16:41:13.756343Z",
     "iopub.status.busy": "2023-04-14T16:41:13.755317Z",
     "iopub.status.idle": "2023-04-14T16:41:13.769391Z",
     "shell.execute_reply": "2023-04-14T16:41:13.768494Z"
    },
    "papermill": {
     "duration": 0.028154,
     "end_time": "2023-04-14T16:41:13.771893",
     "exception": false,
     "start_time": "2023-04-14T16:41:13.743739",
     "status": "completed"
    },
    "tags": []
   },
   "outputs": [
    {
     "data": {
      "text/plain": [
       "KNeighborsClassifier(n_neighbors=3)"
      ]
     },
     "execution_count": 16,
     "metadata": {},
     "output_type": "execute_result"
    }
   ],
   "source": [
    "k=3\n",
    "myclassifier = KNeighborsClassifier(n_neighbors = k).fit(x_train , y_train)\n",
    "myclassifier"
   ]
  },
  {
   "cell_type": "markdown",
   "id": "943cfdcf",
   "metadata": {
    "papermill": {
     "duration": 0.010432,
     "end_time": "2023-04-14T16:41:13.792675",
     "exception": false,
     "start_time": "2023-04-14T16:41:13.782243",
     "status": "completed"
    },
    "tags": []
   },
   "source": [
    "## Prediction"
   ]
  },
  {
   "cell_type": "code",
   "execution_count": 17,
   "id": "63adab42",
   "metadata": {
    "execution": {
     "iopub.execute_input": "2023-04-14T16:41:13.835287Z",
     "iopub.status.busy": "2023-04-14T16:41:13.834884Z",
     "iopub.status.idle": "2023-04-14T16:41:13.852482Z",
     "shell.execute_reply": "2023-04-14T16:41:13.851672Z"
    },
    "papermill": {
     "duration": 0.031161,
     "end_time": "2023-04-14T16:41:13.854552",
     "exception": false,
     "start_time": "2023-04-14T16:41:13.823391",
     "status": "completed"
    },
    "tags": []
   },
   "outputs": [
    {
     "data": {
      "text/plain": [
       "array([1, 1, 0, 0, 1], dtype=int64)"
      ]
     },
     "execution_count": 17,
     "metadata": {},
     "output_type": "execute_result"
    }
   ],
   "source": [
    "y_hat = myclassifier.predict(x_test)\n",
    "y_hat[0:5]"
   ]
  },
  {
   "cell_type": "markdown",
   "id": "5531149f",
   "metadata": {
    "papermill": {
     "duration": 0.010164,
     "end_time": "2023-04-14T16:41:13.875103",
     "exception": false,
     "start_time": "2023-04-14T16:41:13.864939",
     "status": "completed"
    },
    "tags": []
   },
   "source": [
    "## Accuracy avaluation"
   ]
  },
  {
   "cell_type": "code",
   "execution_count": 18,
   "id": "2a9a608b",
   "metadata": {
    "execution": {
     "iopub.execute_input": "2023-04-14T16:41:13.918653Z",
     "iopub.status.busy": "2023-04-14T16:41:13.917918Z",
     "iopub.status.idle": "2023-04-14T16:41:13.969860Z",
     "shell.execute_reply": "2023-04-14T16:41:13.968465Z"
    },
    "papermill": {
     "duration": 0.066025,
     "end_time": "2023-04-14T16:41:13.972203",
     "exception": false,
     "start_time": "2023-04-14T16:41:13.906178",
     "status": "completed"
    },
    "tags": []
   },
   "outputs": [
    {
     "name": "stdout",
     "output_type": "stream",
     "text": [
      "Train set accuracy:  0.9963414634146341\n",
      "Test set accuracy:  0.9658536585365853\n"
     ]
    }
   ],
   "source": [
    "from sklearn import metrics\n",
    "print ('Train set accuracy: ', metrics.accuracy_score(y_train , myclassifier.predict(x_train)))\n",
    "print ('Test set accuracy: ', metrics.accuracy_score(y_test , myclassifier.predict(x_test)))       "
   ]
  },
  {
   "cell_type": "code",
   "execution_count": 19,
   "id": "fc621819",
   "metadata": {
    "execution": {
     "iopub.execute_input": "2023-04-14T16:41:14.037924Z",
     "iopub.status.busy": "2023-04-14T16:41:14.037466Z",
     "iopub.status.idle": "2023-04-14T16:41:14.144498Z",
     "shell.execute_reply": "2023-04-14T16:41:14.143161Z"
    },
    "papermill": {
     "duration": 0.122107,
     "end_time": "2023-04-14T16:41:14.147255",
     "exception": false,
     "start_time": "2023-04-14T16:41:14.025148",
     "status": "completed"
    },
    "tags": []
   },
   "outputs": [
    {
     "data": {
      "text/plain": [
       "array([1.        , 0.9902439 , 0.96585366, 0.90243902, 0.86341463,\n",
       "       0.87317073, 0.83902439, 0.82926829, 0.83414634])"
      ]
     },
     "execution_count": 19,
     "metadata": {},
     "output_type": "execute_result"
    }
   ],
   "source": [
    "Ks = 10\n",
    "mean_acc = np.zeros((Ks-1))\n",
    "std_acc = np.zeros((Ks-1))\n",
    "\n",
    "for n in range(1,Ks):\n",
    "    \n",
    "    #Train Model and Predict  \n",
    "    myclassifier = KNeighborsClassifier(n_neighbors = n).fit(x_train,y_train)\n",
    "    yhat=myclassifier.predict(x_test)\n",
    "    mean_acc[n-1] = metrics.accuracy_score(y_test, yhat)\n",
    "\n",
    "    \n",
    "    std_acc[n-1]=np.std(yhat==y_test)/np.sqrt(yhat.shape[0])\n",
    "\n",
    "mean_acc"
   ]
  },
  {
   "cell_type": "markdown",
   "id": "1a271b4b",
   "metadata": {
    "papermill": {
     "duration": 0.010818,
     "end_time": "2023-04-14T16:41:14.168918",
     "exception": false,
     "start_time": "2023-04-14T16:41:14.158100",
     "status": "completed"
    },
    "tags": []
   },
   "source": [
    "#### Plot the model accuracy for a different number of neighbors"
   ]
  },
  {
   "cell_type": "code",
   "execution_count": 20,
   "id": "b685e2aa",
   "metadata": {
    "execution": {
     "iopub.execute_input": "2023-04-14T16:41:14.192559Z",
     "iopub.status.busy": "2023-04-14T16:41:14.191521Z",
     "iopub.status.idle": "2023-04-14T16:41:14.513302Z",
     "shell.execute_reply": "2023-04-14T16:41:14.512143Z"
    },
    "papermill": {
     "duration": 0.336554,
     "end_time": "2023-04-14T16:41:14.516198",
     "exception": false,
     "start_time": "2023-04-14T16:41:14.179644",
     "status": "completed"
    },
    "tags": []
   },
   "outputs": [
    {
     "data": {
      "image/png": "[encoded data removed]",
      "text/plain": [
       "<Figure size 432x288 with 1 Axes>"
      ]
     },
     "metadata": {
      "needs_background": "light"
     },
     "output_type": "display_data"
    }
   ],
   "source": [
    "plt.plot(range(1,Ks),mean_acc,'g')\n",
    "plt.fill_between(range(1,Ks),mean_acc - 1 * std_acc,mean_acc + 1 * std_acc, alpha=0.10)\n",
    "plt.fill_between(range(1,Ks),mean_acc - 3 * std_acc,mean_acc + 3 * std_acc, alpha=0.10,color=\"green\")\n",
    "plt.legend(('Accuracy ', '+/- 1xstd','+/- 3xstd'))\n",
    "plt.ylabel('Accuracy ')\n",
    "plt.xlabel('Number of Neighbors (K)')\n",
    "plt.tight_layout()\n",
    "plt.show()"
   ]
  },
  {
   "cell_type": "code",
   "execution_count": 21,
   "id": "f96df5b2",
   "metadata": {},
   "outputs": [
    {
     "name": "stdout",
     "output_type": "stream",
     "text": [
      "Prediction Probabilities\n"
     ]
    },
    {
     "data": {
      "text/plain": [
       "array([[0.        , 1.        ],\n",
       "       [0.        , 1.        ],\n",
       "       [0.66666667, 0.33333333],\n",
       "       [1.        , 0.        ],\n",
       "       [0.        , 1.        ],\n",
       "       [0.        , 1.        ],\n",
       "       [1.        , 0.        ],\n",
       "       [1.        , 0.        ],\n",
       "       [0.        , 1.        ],\n",
       "       [0.44444444, 0.55555556],\n",
       "       [0.        , 1.        ],\n",
       "       [0.        , 1.        ],\n",
       "       [0.        , 1.        ],\n",
       "       [0.        , 1.        ],\n",
       "       [0.        , 1.        ],\n",
       "       [1.        , 0.        ],\n",
       "       [1.        , 0.        ],\n",
       "       [1.        , 0.        ],\n",
       "       [0.55555556, 0.44444444],\n",
       "       [1.        , 0.        ],\n",
       "       [0.        , 1.        ],\n",
       "       [0.33333333, 0.66666667],\n",
       "       [0.77777778, 0.22222222],\n",
       "       [0.22222222, 0.77777778],\n",
       "       [0.        , 1.        ],\n",
       "       [1.        , 0.        ],\n",
       "       [0.11111111, 0.88888889],\n",
       "       [0.33333333, 0.66666667],\n",
       "       [0.55555556, 0.44444444],\n",
       "       [0.22222222, 0.77777778],\n",
       "       [1.        , 0.        ],\n",
       "       [0.        , 1.        ],\n",
       "       [0.55555556, 0.44444444],\n",
       "       [1.        , 0.        ],\n",
       "       [1.        , 0.        ],\n",
       "       [0.77777778, 0.22222222],\n",
       "       [0.88888889, 0.11111111],\n",
       "       [0.        , 1.        ],\n",
       "       [0.        , 1.        ],\n",
       "       [0.88888889, 0.11111111],\n",
       "       [0.        , 1.        ],\n",
       "       [0.        , 1.        ],\n",
       "       [0.33333333, 0.66666667],\n",
       "       [0.        , 1.        ],\n",
       "       [0.        , 1.        ],\n",
       "       [1.        , 0.        ],\n",
       "       [0.55555556, 0.44444444],\n",
       "       [0.        , 1.        ],\n",
       "       [1.        , 0.        ],\n",
       "       [0.        , 1.        ],\n",
       "       [1.        , 0.        ],\n",
       "       [1.        , 0.        ],\n",
       "       [1.        , 0.        ],\n",
       "       [0.33333333, 0.66666667],\n",
       "       [0.        , 1.        ],\n",
       "       [1.        , 0.        ],\n",
       "       [0.22222222, 0.77777778],\n",
       "       [1.        , 0.        ],\n",
       "       [0.66666667, 0.33333333],\n",
       "       [0.66666667, 0.33333333],\n",
       "       [0.11111111, 0.88888889],\n",
       "       [0.        , 1.        ],\n",
       "       [0.        , 1.        ],\n",
       "       [0.33333333, 0.66666667],\n",
       "       [0.        , 1.        ],\n",
       "       [1.        , 0.        ],\n",
       "       [1.        , 0.        ],\n",
       "       [0.        , 1.        ],\n",
       "       [0.77777778, 0.22222222],\n",
       "       [0.33333333, 0.66666667],\n",
       "       [1.        , 0.        ],\n",
       "       [0.66666667, 0.33333333],\n",
       "       [0.77777778, 0.22222222],\n",
       "       [1.        , 0.        ],\n",
       "       [0.44444444, 0.55555556],\n",
       "       [0.77777778, 0.22222222],\n",
       "       [1.        , 0.        ],\n",
       "       [0.        , 1.        ],\n",
       "       [0.        , 1.        ],\n",
       "       [0.        , 1.        ],\n",
       "       [1.        , 0.        ],\n",
       "       [1.        , 0.        ],\n",
       "       [0.55555556, 0.44444444],\n",
       "       [1.        , 0.        ],\n",
       "       [0.55555556, 0.44444444],\n",
       "       [1.        , 0.        ],\n",
       "       [0.66666667, 0.33333333],\n",
       "       [0.55555556, 0.44444444],\n",
       "       [0.11111111, 0.88888889],\n",
       "       [0.        , 1.        ],\n",
       "       [0.        , 1.        ],\n",
       "       [0.        , 1.        ],\n",
       "       [1.        , 0.        ],\n",
       "       [0.        , 1.        ],\n",
       "       [0.77777778, 0.22222222],\n",
       "       [0.88888889, 0.11111111],\n",
       "       [0.22222222, 0.77777778],\n",
       "       [0.55555556, 0.44444444],\n",
       "       [0.        , 1.        ],\n",
       "       [1.        , 0.        ],\n",
       "       [0.        , 1.        ],\n",
       "       [0.66666667, 0.33333333],\n",
       "       [1.        , 0.        ],\n",
       "       [1.        , 0.        ],\n",
       "       [0.55555556, 0.44444444],\n",
       "       [0.11111111, 0.88888889],\n",
       "       [0.        , 1.        ],\n",
       "       [0.        , 1.        ],\n",
       "       [0.33333333, 0.66666667],\n",
       "       [0.        , 1.        ],\n",
       "       [0.22222222, 0.77777778],\n",
       "       [1.        , 0.        ],\n",
       "       [0.        , 1.        ],\n",
       "       [0.11111111, 0.88888889],\n",
       "       [0.66666667, 0.33333333],\n",
       "       [0.33333333, 0.66666667],\n",
       "       [0.        , 1.        ],\n",
       "       [1.        , 0.        ],\n",
       "       [0.55555556, 0.44444444],\n",
       "       [0.22222222, 0.77777778],\n",
       "       [0.77777778, 0.22222222],\n",
       "       [1.        , 0.        ],\n",
       "       [0.        , 1.        ],\n",
       "       [0.        , 1.        ],\n",
       "       [0.77777778, 0.22222222],\n",
       "       [0.        , 1.        ],\n",
       "       [1.        , 0.        ],\n",
       "       [1.        , 0.        ],\n",
       "       [1.        , 0.        ],\n",
       "       [0.55555556, 0.44444444],\n",
       "       [0.33333333, 0.66666667],\n",
       "       [0.33333333, 0.66666667],\n",
       "       [0.33333333, 0.66666667],\n",
       "       [1.        , 0.        ],\n",
       "       [1.        , 0.        ],\n",
       "       [1.        , 0.        ],\n",
       "       [0.        , 1.        ],\n",
       "       [0.        , 1.        ],\n",
       "       [0.        , 1.        ],\n",
       "       [0.66666667, 0.33333333],\n",
       "       [0.22222222, 0.77777778],\n",
       "       [0.        , 1.        ],\n",
       "       [0.11111111, 0.88888889],\n",
       "       [1.        , 0.        ],\n",
       "       [1.        , 0.        ],\n",
       "       [1.        , 0.        ],\n",
       "       [0.44444444, 0.55555556],\n",
       "       [1.        , 0.        ],\n",
       "       [0.77777778, 0.22222222],\n",
       "       [1.        , 0.        ],\n",
       "       [0.        , 1.        ],\n",
       "       [0.88888889, 0.11111111],\n",
       "       [1.        , 0.        ],\n",
       "       [0.        , 1.        ],\n",
       "       [0.        , 1.        ],\n",
       "       [0.77777778, 0.22222222],\n",
       "       [0.        , 1.        ],\n",
       "       [0.77777778, 0.22222222],\n",
       "       [1.        , 0.        ],\n",
       "       [0.66666667, 0.33333333],\n",
       "       [0.66666667, 0.33333333],\n",
       "       [0.        , 1.        ],\n",
       "       [0.33333333, 0.66666667],\n",
       "       [0.88888889, 0.11111111],\n",
       "       [0.        , 1.        ],\n",
       "       [0.55555556, 0.44444444],\n",
       "       [0.        , 1.        ],\n",
       "       [0.        , 1.        ],\n",
       "       [0.        , 1.        ],\n",
       "       [0.66666667, 0.33333333],\n",
       "       [0.        , 1.        ],\n",
       "       [0.        , 1.        ],\n",
       "       [0.44444444, 0.55555556],\n",
       "       [0.        , 1.        ],\n",
       "       [0.66666667, 0.33333333],\n",
       "       [1.        , 0.        ],\n",
       "       [1.        , 0.        ],\n",
       "       [0.22222222, 0.77777778],\n",
       "       [0.        , 1.        ],\n",
       "       [1.        , 0.        ],\n",
       "       [0.33333333, 0.66666667],\n",
       "       [1.        , 0.        ],\n",
       "       [1.        , 0.        ],\n",
       "       [0.44444444, 0.55555556],\n",
       "       [1.        , 0.        ],\n",
       "       [0.11111111, 0.88888889],\n",
       "       [0.        , 1.        ],\n",
       "       [0.        , 1.        ],\n",
       "       [1.        , 0.        ],\n",
       "       [1.        , 0.        ],\n",
       "       [0.        , 1.        ],\n",
       "       [0.88888889, 0.11111111],\n",
       "       [0.33333333, 0.66666667],\n",
       "       [1.        , 0.        ],\n",
       "       [0.        , 1.        ],\n",
       "       [0.77777778, 0.22222222],\n",
       "       [0.        , 1.        ],\n",
       "       [0.66666667, 0.33333333],\n",
       "       [1.        , 0.        ],\n",
       "       [0.77777778, 0.22222222],\n",
       "       [0.        , 1.        ],\n",
       "       [0.66666667, 0.33333333],\n",
       "       [0.22222222, 0.77777778],\n",
       "       [0.33333333, 0.66666667],\n",
       "       [1.        , 0.        ]])"
      ]
     },
     "execution_count": 21,
     "metadata": {},
     "output_type": "execute_result"
    }
   ],
   "source": [
    "#Printing prediction probabilities for the test data\n",
    "print('Prediction Probabilities')\n",
    "myclassifier.predict_proba(x_test)"
   ]
  },
  {
   "cell_type": "code",
   "execution_count": 22,
   "id": "53d37182",
   "metadata": {},
   "outputs": [
    {
     "data": {
      "text/plain": [
       "array([1, 1, 0, 0, 1, 1, 0, 0, 1, 1, 1, 1, 1, 1, 1, 0, 0, 0, 0, 0, 1, 1,\n",
       "       0, 1, 1, 0, 1, 1, 0, 1, 0, 1, 0, 0, 0, 0, 0, 1, 1, 0, 1, 1, 1, 1,\n",
       "       1, 0, 0, 1, 0, 1, 0, 0, 0, 1, 1, 0, 1, 0, 0, 0, 1, 1, 1, 1, 1, 0,\n",
       "       0, 1, 0, 1, 0, 0, 0, 0, 1, 0, 0, 1, 1, 1, 0, 0, 0, 0, 0, 0, 0, 0,\n",
       "       1, 1, 1, 1, 0, 1, 0, 0, 1, 0, 1, 0, 1, 0, 0, 0, 0, 1, 1, 1, 1, 1,\n",
       "       1, 0, 1, 1, 0, 1, 1, 0, 0, 1, 0, 0, 1, 1, 0, 1, 0, 0, 0, 0, 1, 1,\n",
       "       1, 0, 0, 0, 1, 1, 1, 0, 1, 1, 1, 0, 0, 0, 1, 0, 0, 0, 1, 0, 0, 1,\n",
       "       1, 0, 1, 0, 0, 0, 0, 1, 1, 0, 1, 0, 1, 1, 1, 0, 1, 1, 1, 1, 0, 0,\n",
       "       0, 1, 1, 0, 1, 0, 0, 1, 0, 1, 1, 1, 0, 0, 1, 0, 1, 0, 1, 0, 1, 0,\n",
       "       0, 0, 1, 0, 1, 1, 0], dtype=int64)"
      ]
     },
     "execution_count": 22,
     "metadata": {},
     "output_type": "execute_result"
    }
   ],
   "source": [
    "import pickle\n",
    " \n",
    "# Firstly we will be using the dump() function to save the model using pickle\n",
    "saved_model = pickle.dumps(myclassifier)\n",
    " \n",
    "# Then we will be loading that saved model\n",
    "myclassifier_from_pickle = pickle.loads(saved_model)\n",
    " \n",
    "# lastly, after loading that model we will use this to make predictions\n",
    "myclassifier_from_pickle.predict(x_test)"
   ]
  }
 ],
 "metadata": {
  "kernelspec": {
   "display_name": "Python 3 (ipykernel)",
   "language": "python",
   "name": "python3"
  },
  "language_info": {
   "codemirror_mode": {
    "name": "ipython",
    "version": 3
   },
   "file_extension": ".py",
   "mimetype": "text/x-python",
   "name": "python",
   "nbconvert_exporter": "python",
   "pygments_lexer": "ipython3",
   "version": "3.9.7"
  },
  "papermill": {
   "default_parameters": {},
   "duration": 14.154731,
   "end_time": "2023-04-14T16:41:15.273721",
   "environment_variables": {},
   "exception": null,
   "input_path": "__notebook__.ipynb",
   "output_path": "__notebook__.ipynb",
   "parameters": {},
   "start_time": "2023-04-14T16:41:01.118990",
   "version": "2.4.0"
  }
 },
 "nbformat": 4,
 "nbformat_minor": 5
}
