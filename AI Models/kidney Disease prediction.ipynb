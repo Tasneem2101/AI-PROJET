{
 "cells": [
  {
   "cell_type": "code",
   "execution_count": 1,
   "id": "d525009b",
   "metadata": {
    "_cell_guid": "b1076dfc-b9ad-4769-8c92-a6c4dae69d19",
    "_uuid": "8f2839f25d086af736a60e9eeb907d3b93b6e0e5",
    "execution": {
     "iopub.execute_input": "2023-01-23T00:16:21.329820Z",
     "iopub.status.busy": "2023-01-23T00:16:21.329384Z",
     "iopub.status.idle": "2023-01-23T00:16:22.397417Z",
     "shell.execute_reply": "2023-01-23T00:16:22.395342Z"
    },
    "papermill": {
     "duration": 1.082032,
     "end_time": "2023-01-23T00:16:22.400249",
     "exception": false,
     "start_time": "2023-01-23T00:16:21.318217",
     "status": "completed"
    },
    "tags": []
   },
   "outputs": [],
   "source": [
    "import numpy as np \n",
    "import pandas as pd \n",
    "import seaborn as sns\n",
    "import matplotlib.pyplot as plt"
   ]
  },
  {
   "cell_type": "code",
   "execution_count": 3,
   "id": "ccbe7341",
   "metadata": {
    "execution": {
     "iopub.execute_input": "2023-01-23T00:16:22.487972Z",
     "iopub.status.busy": "2023-01-23T00:16:22.487581Z",
     "iopub.status.idle": "2023-01-23T00:16:22.538574Z",
     "shell.execute_reply": "2023-01-23T00:16:22.537770Z"
    },
    "papermill": {
     "duration": 0.062447,
     "end_time": "2023-01-23T00:16:22.540342",
     "exception": false,
     "start_time": "2023-01-23T00:16:22.477895",
     "status": "completed"
    },
    "tags": []
   },
   "outputs": [
    {
     "data": {
      "text/html": [
       "<div>\n",
       "<style scoped>\n",
       "    .dataframe tbody tr th:only-of-type {\n",
       "        vertical-align: middle;\n",
       "    }\n",
       "\n",
       "    .dataframe tbody tr th {\n",
       "        vertical-align: top;\n",
       "    }\n",
       "\n",
       "    .dataframe thead th {\n",
       "        text-align: right;\n",
       "    }\n",
       "</style>\n",
       "<table border=\"1\" class=\"dataframe\">\n",
       "  <thead>\n",
       "    <tr style=\"text-align: right;\">\n",
       "      <th></th>\n",
       "      <th>id</th>\n",
       "      <th>age</th>\n",
       "      <th>bp</th>\n",
       "      <th>sg</th>\n",
       "      <th>al</th>\n",
       "      <th>su</th>\n",
       "      <th>rbc</th>\n",
       "      <th>pc</th>\n",
       "      <th>pcc</th>\n",
       "      <th>ba</th>\n",
       "      <th>...</th>\n",
       "      <th>pcv</th>\n",
       "      <th>wc</th>\n",
       "      <th>rc</th>\n",
       "      <th>htn</th>\n",
       "      <th>dm</th>\n",
       "      <th>cad</th>\n",
       "      <th>appet</th>\n",
       "      <th>pe</th>\n",
       "      <th>ane</th>\n",
       "      <th>classification</th>\n",
       "    </tr>\n",
       "  </thead>\n",
       "  <tbody>\n",
       "    <tr>\n",
       "      <th>0</th>\n",
       "      <td>0</td>\n",
       "      <td>48.0</td>\n",
       "      <td>80.0</td>\n",
       "      <td>1.020</td>\n",
       "      <td>1.0</td>\n",
       "      <td>0.0</td>\n",
       "      <td>NaN</td>\n",
       "      <td>normal</td>\n",
       "      <td>notpresent</td>\n",
       "      <td>notpresent</td>\n",
       "      <td>...</td>\n",
       "      <td>44</td>\n",
       "      <td>7800</td>\n",
       "      <td>5.2</td>\n",
       "      <td>yes</td>\n",
       "      <td>yes</td>\n",
       "      <td>no</td>\n",
       "      <td>good</td>\n",
       "      <td>no</td>\n",
       "      <td>no</td>\n",
       "      <td>ckd</td>\n",
       "    </tr>\n",
       "    <tr>\n",
       "      <th>1</th>\n",
       "      <td>1</td>\n",
       "      <td>7.0</td>\n",
       "      <td>50.0</td>\n",
       "      <td>1.020</td>\n",
       "      <td>4.0</td>\n",
       "      <td>0.0</td>\n",
       "      <td>NaN</td>\n",
       "      <td>normal</td>\n",
       "      <td>notpresent</td>\n",
       "      <td>notpresent</td>\n",
       "      <td>...</td>\n",
       "      <td>38</td>\n",
       "      <td>6000</td>\n",
       "      <td>NaN</td>\n",
       "      <td>no</td>\n",
       "      <td>no</td>\n",
       "      <td>no</td>\n",
       "      <td>good</td>\n",
       "      <td>no</td>\n",
       "      <td>no</td>\n",
       "      <td>ckd</td>\n",
       "    </tr>\n",
       "    <tr>\n",
       "      <th>2</th>\n",
       "      <td>2</td>\n",
       "      <td>62.0</td>\n",
       "      <td>80.0</td>\n",
       "      <td>1.010</td>\n",
       "      <td>2.0</td>\n",
       "      <td>3.0</td>\n",
       "      <td>normal</td>\n",
       "      <td>normal</td>\n",
       "      <td>notpresent</td>\n",
       "      <td>notpresent</td>\n",
       "      <td>...</td>\n",
       "      <td>31</td>\n",
       "      <td>7500</td>\n",
       "      <td>NaN</td>\n",
       "      <td>no</td>\n",
       "      <td>yes</td>\n",
       "      <td>no</td>\n",
       "      <td>poor</td>\n",
       "      <td>no</td>\n",
       "      <td>yes</td>\n",
       "      <td>ckd</td>\n",
       "    </tr>\n",
       "    <tr>\n",
       "      <th>3</th>\n",
       "      <td>3</td>\n",
       "      <td>48.0</td>\n",
       "      <td>70.0</td>\n",
       "      <td>1.005</td>\n",
       "      <td>4.0</td>\n",
       "      <td>0.0</td>\n",
       "      <td>normal</td>\n",
       "      <td>abnormal</td>\n",
       "      <td>present</td>\n",
       "      <td>notpresent</td>\n",
       "      <td>...</td>\n",
       "      <td>32</td>\n",
       "      <td>6700</td>\n",
       "      <td>3.9</td>\n",
       "      <td>yes</td>\n",
       "      <td>no</td>\n",
       "      <td>no</td>\n",
       "      <td>poor</td>\n",
       "      <td>yes</td>\n",
       "      <td>yes</td>\n",
       "      <td>ckd</td>\n",
       "    </tr>\n",
       "    <tr>\n",
       "      <th>4</th>\n",
       "      <td>4</td>\n",
       "      <td>51.0</td>\n",
       "      <td>80.0</td>\n",
       "      <td>1.010</td>\n",
       "      <td>2.0</td>\n",
       "      <td>0.0</td>\n",
       "      <td>normal</td>\n",
       "      <td>normal</td>\n",
       "      <td>notpresent</td>\n",
       "      <td>notpresent</td>\n",
       "      <td>...</td>\n",
       "      <td>35</td>\n",
       "      <td>7300</td>\n",
       "      <td>4.6</td>\n",
       "      <td>no</td>\n",
       "      <td>no</td>\n",
       "      <td>no</td>\n",
       "      <td>good</td>\n",
       "      <td>no</td>\n",
       "      <td>no</td>\n",
       "      <td>ckd</td>\n",
       "    </tr>\n",
       "  </tbody>\n",
       "</table>\n",
       "<p>5 rows × 26 columns</p>\n",
       "</div>"
      ],
      "text/plain": [
       "   id   age    bp     sg   al   su     rbc        pc         pcc          ba  \\\n",
       "0   0  48.0  80.0  1.020  1.0  0.0     NaN    normal  notpresent  notpresent   \n",
       "1   1   7.0  50.0  1.020  4.0  0.0     NaN    normal  notpresent  notpresent   \n",
       "2   2  62.0  80.0  1.010  2.0  3.0  normal    normal  notpresent  notpresent   \n",
       "3   3  48.0  70.0  1.005  4.0  0.0  normal  abnormal     present  notpresent   \n",
       "4   4  51.0  80.0  1.010  2.0  0.0  normal    normal  notpresent  notpresent   \n",
       "\n",
       "   ...  pcv    wc   rc  htn   dm  cad appet   pe  ane classification  \n",
       "0  ...   44  7800  5.2  yes  yes   no  good   no   no            ckd  \n",
       "1  ...   38  6000  NaN   no   no   no  good   no   no            ckd  \n",
       "2  ...   31  7500  NaN   no  yes   no  poor   no  yes            ckd  \n",
       "3  ...   32  6700  3.9  yes   no   no  poor  yes  yes            ckd  \n",
       "4  ...   35  7300  4.6   no   no   no  good   no   no            ckd  \n",
       "\n",
       "[5 rows x 26 columns]"
      ]
     },
     "execution_count": 3,
     "metadata": {},
     "output_type": "execute_result"
    }
   ],
   "source": [
    "# Load dataset\n",
    "kideny = pd.read_csv(\"kidney_disease.csv\")\n",
    "\n",
    "# Inspect data\n",
    "kideny.head(5)"
   ]
  },
  {
   "cell_type": "code",
   "execution_count": 4,
   "id": "cc40e009",
   "metadata": {
    "execution": {
     "iopub.execute_input": "2023-01-23T00:16:22.577070Z",
     "iopub.status.busy": "2023-01-23T00:16:22.576646Z",
     "iopub.status.idle": "2023-01-23T00:16:22.588134Z",
     "shell.execute_reply": "2023-01-23T00:16:22.586568Z"
    },
    "papermill": {
     "duration": 0.023462,
     "end_time": "2023-01-23T00:16:22.590062",
     "exception": false,
     "start_time": "2023-01-23T00:16:22.566600",
     "status": "completed"
    },
    "tags": []
   },
   "outputs": [],
   "source": [
    "kideny=kideny.drop(\"id\", axis=1)\n",
    "kideny.columns = ['age', 'blood_pressure', 'specific_gravity', 'albumin', 'sugar', 'red_blood_cells', 'pus_cell',\n",
    "              'pus_cell_clumps', 'bacteria', 'blood_glucose_random', 'blood_urea', 'serum_creatinine', 'sodium',\n",
    "              'potassium', 'haemoglobin', 'packed_cell_volume', 'white_blood_cell_count', 'red_blood_cell_count',\n",
    "              'hypertension', 'diabetes_mellitus', 'coronary_artery_disease', 'appetite', 'peda_edema',\n",
    "              'aanemia', 'classification']"
   ]
  },
  {
   "cell_type": "code",
   "execution_count": 5,
   "id": "6b572923",
   "metadata": {
    "execution": {
     "iopub.execute_input": "2023-01-23T00:16:22.714055Z",
     "iopub.status.busy": "2023-01-23T00:16:22.713453Z",
     "iopub.status.idle": "2023-01-23T00:16:22.732616Z",
     "shell.execute_reply": "2023-01-23T00:16:22.730358Z"
    },
    "papermill": {
     "duration": 0.032357,
     "end_time": "2023-01-23T00:16:22.735511",
     "exception": false,
     "start_time": "2023-01-23T00:16:22.703154",
     "status": "completed"
    },
    "tags": []
   },
   "outputs": [
    {
     "name": "stdout",
     "output_type": "stream",
     "text": [
      "<class 'pandas.core.frame.DataFrame'>\n",
      "RangeIndex: 400 entries, 0 to 399\n",
      "Data columns (total 25 columns):\n",
      " #   Column                   Non-Null Count  Dtype  \n",
      "---  ------                   --------------  -----  \n",
      " 0   age                      391 non-null    float64\n",
      " 1   blood_pressure           388 non-null    float64\n",
      " 2   specific_gravity         353 non-null    float64\n",
      " 3   albumin                  354 non-null    float64\n",
      " 4   sugar                    351 non-null    float64\n",
      " 5   red_blood_cells          248 non-null    object \n",
      " 6   pus_cell                 335 non-null    object \n",
      " 7   pus_cell_clumps          396 non-null    object \n",
      " 8   bacteria                 396 non-null    object \n",
      " 9   blood_glucose_random     356 non-null    float64\n",
      " 10  blood_urea               381 non-null    float64\n",
      " 11  serum_creatinine         383 non-null    float64\n",
      " 12  sodium                   313 non-null    float64\n",
      " 13  potassium                312 non-null    float64\n",
      " 14  haemoglobin              348 non-null    float64\n",
      " 15  packed_cell_volume       330 non-null    object \n",
      " 16  white_blood_cell_count   295 non-null    object \n",
      " 17  red_blood_cell_count     270 non-null    object \n",
      " 18  hypertension             398 non-null    object \n",
      " 19  diabetes_mellitus        398 non-null    object \n",
      " 20  coronary_artery_disease  398 non-null    object \n",
      " 21  appetite                 399 non-null    object \n",
      " 22  peda_edema               399 non-null    object \n",
      " 23  aanemia                  399 non-null    object \n",
      " 24  classification           400 non-null    object \n",
      "dtypes: float64(11), object(14)\n",
      "memory usage: 78.2+ KB\n"
     ]
    }
   ],
   "source": [
    "# Print DataFrame information\n",
    "kideny.info()"
   ]
  },
  {
   "cell_type": "code",
   "execution_count": 6,
   "id": "5f54a5a3",
   "metadata": {},
   "outputs": [
    {
     "data": {
      "text/plain": [
       "(400, 25)"
      ]
     },
     "execution_count": 6,
     "metadata": {},
     "output_type": "execute_result"
    }
   ],
   "source": [
    "kideny.shape"
   ]
  },
  {
   "cell_type": "code",
   "execution_count": 7,
   "id": "5c4eb2ed",
   "metadata": {},
   "outputs": [
    {
     "data": {
      "text/plain": [
       "(400, 25)"
      ]
     },
     "execution_count": 7,
     "metadata": {},
     "output_type": "execute_result"
    }
   ],
   "source": [
    "kideny= kideny.drop_duplicates(keep=False)  # No duplicate data to delete\n",
    "kideny.shape"
   ]
  },
  {
   "cell_type": "code",
   "execution_count": 8,
   "id": "f14335b3",
   "metadata": {
    "execution": {
     "iopub.execute_input": "2023-01-23T00:16:22.795843Z",
     "iopub.status.busy": "2023-01-23T00:16:22.795380Z",
     "iopub.status.idle": "2023-01-23T00:16:22.806654Z",
     "shell.execute_reply": "2023-01-23T00:16:22.805149Z"
    },
    "papermill": {
     "duration": 0.023968,
     "end_time": "2023-01-23T00:16:22.809342",
     "exception": false,
     "start_time": "2023-01-23T00:16:22.785374",
     "status": "completed"
    },
    "tags": []
   },
   "outputs": [
    {
     "data": {
      "text/plain": [
       "age                          9\n",
       "blood_pressure              12\n",
       "specific_gravity            47\n",
       "albumin                     46\n",
       "sugar                       49\n",
       "red_blood_cells            152\n",
       "pus_cell                    65\n",
       "pus_cell_clumps              4\n",
       "bacteria                     4\n",
       "blood_glucose_random        44\n",
       "blood_urea                  19\n",
       "serum_creatinine            17\n",
       "sodium                      87\n",
       "potassium                   88\n",
       "haemoglobin                 52\n",
       "packed_cell_volume          70\n",
       "white_blood_cell_count     105\n",
       "red_blood_cell_count       130\n",
       "hypertension                 2\n",
       "diabetes_mellitus            2\n",
       "coronary_artery_disease      2\n",
       "appetite                     1\n",
       "peda_edema                   1\n",
       "aanemia                      1\n",
       "classification               0\n",
       "dtype: int64"
      ]
     },
     "execution_count": 8,
     "metadata": {},
     "output_type": "execute_result"
    }
   ],
   "source": [
    "kideny.isna().sum() "
   ]
  },
  {
   "cell_type": "code",
   "execution_count": 9,
   "id": "305671e0",
   "metadata": {},
   "outputs": [
    {
     "data": {
      "text/plain": [
       "ckd       248\n",
       "notckd    150\n",
       "ckd\\t       2\n",
       "Name: classification, dtype: int64"
      ]
     },
     "execution_count": 9,
     "metadata": {},
     "output_type": "execute_result"
    }
   ],
   "source": [
    "kideny['classification'].value_counts()"
   ]
  },
  {
   "cell_type": "code",
   "execution_count": 10,
   "id": "7c43cf78",
   "metadata": {},
   "outputs": [],
   "source": [
    "kideny['classification']= kideny['classification'].replace('ckd\\t','ckd')"
   ]
  },
  {
   "cell_type": "code",
   "execution_count": 11,
   "id": "ea714c3f",
   "metadata": {},
   "outputs": [
    {
     "data": {
      "text/plain": [
       "ckd       250\n",
       "notckd    150\n",
       "Name: classification, dtype: int64"
      ]
     },
     "execution_count": 11,
     "metadata": {},
     "output_type": "execute_result"
    }
   ],
   "source": [
    "kideny['classification'].value_counts()"
   ]
  },
  {
   "cell_type": "code",
   "execution_count": 12,
   "id": "4295d93d",
   "metadata": {},
   "outputs": [],
   "source": [
    "numerical=[]\n",
    "catgcols=[]\n",
    "for col in kideny.columns:\n",
    "    if kideny[col].dtype==\"float64\":\n",
    "        numerical.append(col)\n",
    "    else:\n",
    "        catgcols.append(col)\n",
    "\n",
    "for col in kideny.columns:\n",
    "    if col in numerical:\n",
    "        kideny[col].fillna(kideny[col].median(), inplace=True)\n",
    "    else:\n",
    "        \n",
    "        kideny[col].fillna(kideny[col].mode()[0], inplace=True)"
   ]
  },
  {
   "cell_type": "code",
   "execution_count": 13,
   "id": "d6f89937",
   "metadata": {},
   "outputs": [
    {
     "data": {
      "text/plain": [
       "['age',\n",
       " 'blood_pressure',\n",
       " 'specific_gravity',\n",
       " 'albumin',\n",
       " 'sugar',\n",
       " 'blood_glucose_random',\n",
       " 'blood_urea',\n",
       " 'serum_creatinine',\n",
       " 'sodium',\n",
       " 'potassium',\n",
       " 'haemoglobin']"
      ]
     },
     "execution_count": 13,
     "metadata": {},
     "output_type": "execute_result"
    }
   ],
   "source": [
    "numerical #columns have numeral"
   ]
  },
  {
   "cell_type": "code",
   "execution_count": 14,
   "id": "6f93ca43",
   "metadata": {},
   "outputs": [
    {
     "data": {
      "text/plain": [
       "['red_blood_cells',\n",
       " 'pus_cell',\n",
       " 'pus_cell_clumps',\n",
       " 'bacteria',\n",
       " 'packed_cell_volume',\n",
       " 'white_blood_cell_count',\n",
       " 'red_blood_cell_count',\n",
       " 'hypertension',\n",
       " 'diabetes_mellitus',\n",
       " 'coronary_artery_disease',\n",
       " 'appetite',\n",
       " 'peda_edema',\n",
       " 'aanemia',\n",
       " 'classification']"
      ]
     },
     "execution_count": 14,
     "metadata": {},
     "output_type": "execute_result"
    }
   ],
   "source": [
    "catgcols #categorical columns"
   ]
  },
  {
   "cell_type": "code",
   "execution_count": 15,
   "id": "76ca9a97",
   "metadata": {},
   "outputs": [],
   "source": [
    "from sklearn.preprocessing import LabelEncoder\n",
    "\n",
    "le = LabelEncoder()\n",
    "\n",
    "for col in catgcols:\n",
    "    kideny[col] = le.fit_transform(kideny[col])"
   ]
  },
  {
   "cell_type": "code",
   "execution_count": 16,
   "id": "5a498043",
   "metadata": {},
   "outputs": [],
   "source": [
    "kideny['classification'] = le.fit_transform(kideny['classification'])"
   ]
  },
  {
   "cell_type": "code",
   "execution_count": 17,
   "id": "000aed7c",
   "metadata": {
    "execution": {
     "iopub.execute_input": "2023-01-23T00:16:22.902379Z",
     "iopub.status.busy": "2023-01-23T00:16:22.902039Z",
     "iopub.status.idle": "2023-01-23T00:16:22.919637Z",
     "shell.execute_reply": "2023-01-23T00:16:22.918260Z"
    },
    "papermill": {
     "duration": 0.030888,
     "end_time": "2023-01-23T00:16:22.921876",
     "exception": false,
     "start_time": "2023-01-23T00:16:22.890988",
     "status": "completed"
    },
    "tags": []
   },
   "outputs": [
    {
     "name": "stdout",
     "output_type": "stream",
     "text": [
      "<class 'pandas.core.frame.DataFrame'>\n",
      "Int64Index: 400 entries, 0 to 399\n",
      "Data columns (total 25 columns):\n",
      " #   Column                   Non-Null Count  Dtype  \n",
      "---  ------                   --------------  -----  \n",
      " 0   age                      400 non-null    float64\n",
      " 1   blood_pressure           400 non-null    float64\n",
      " 2   specific_gravity         400 non-null    float64\n",
      " 3   albumin                  400 non-null    float64\n",
      " 4   sugar                    400 non-null    float64\n",
      " 5   red_blood_cells          400 non-null    int32  \n",
      " 6   pus_cell                 400 non-null    int32  \n",
      " 7   pus_cell_clumps          400 non-null    int32  \n",
      " 8   bacteria                 400 non-null    int32  \n",
      " 9   blood_glucose_random     400 non-null    float64\n",
      " 10  blood_urea               400 non-null    float64\n",
      " 11  serum_creatinine         400 non-null    float64\n",
      " 12  sodium                   400 non-null    float64\n",
      " 13  potassium                400 non-null    float64\n",
      " 14  haemoglobin              400 non-null    float64\n",
      " 15  packed_cell_volume       400 non-null    int32  \n",
      " 16  white_blood_cell_count   400 non-null    int32  \n",
      " 17  red_blood_cell_count     400 non-null    int32  \n",
      " 18  hypertension             400 non-null    int32  \n",
      " 19  diabetes_mellitus        400 non-null    int32  \n",
      " 20  coronary_artery_disease  400 non-null    int32  \n",
      " 21  appetite                 400 non-null    int32  \n",
      " 22  peda_edema               400 non-null    int32  \n",
      " 23  aanemia                  400 non-null    int32  \n",
      " 24  classification           400 non-null    int64  \n",
      "dtypes: float64(11), int32(13), int64(1)\n",
      "memory usage: 60.9 KB\n"
     ]
    }
   ],
   "source": [
    "kideny.info()"
   ]
  },
  {
   "cell_type": "code",
   "execution_count": 18,
   "id": "77cb25b7",
   "metadata": {},
   "outputs": [
    {
     "data": {
      "text/html": [
       "<div>\n",
       "<style scoped>\n",
       "    .dataframe tbody tr th:only-of-type {\n",
       "        vertical-align: middle;\n",
       "    }\n",
       "\n",
       "    .dataframe tbody tr th {\n",
       "        vertical-align: top;\n",
       "    }\n",
       "\n",
       "    .dataframe thead th {\n",
       "        text-align: right;\n",
       "    }\n",
       "</style>\n",
       "<table border=\"1\" class=\"dataframe\">\n",
       "  <thead>\n",
       "    <tr style=\"text-align: right;\">\n",
       "      <th></th>\n",
       "      <th>age</th>\n",
       "      <th>blood_pressure</th>\n",
       "      <th>specific_gravity</th>\n",
       "      <th>albumin</th>\n",
       "      <th>sugar</th>\n",
       "      <th>red_blood_cells</th>\n",
       "      <th>pus_cell</th>\n",
       "      <th>pus_cell_clumps</th>\n",
       "      <th>bacteria</th>\n",
       "      <th>blood_glucose_random</th>\n",
       "      <th>...</th>\n",
       "      <th>packed_cell_volume</th>\n",
       "      <th>white_blood_cell_count</th>\n",
       "      <th>red_blood_cell_count</th>\n",
       "      <th>hypertension</th>\n",
       "      <th>diabetes_mellitus</th>\n",
       "      <th>coronary_artery_disease</th>\n",
       "      <th>appetite</th>\n",
       "      <th>peda_edema</th>\n",
       "      <th>aanemia</th>\n",
       "      <th>classification</th>\n",
       "    </tr>\n",
       "  </thead>\n",
       "  <tbody>\n",
       "    <tr>\n",
       "      <th>0</th>\n",
       "      <td>48.0</td>\n",
       "      <td>80.0</td>\n",
       "      <td>1.020</td>\n",
       "      <td>1.0</td>\n",
       "      <td>0.0</td>\n",
       "      <td>1</td>\n",
       "      <td>1</td>\n",
       "      <td>0</td>\n",
       "      <td>0</td>\n",
       "      <td>121.0</td>\n",
       "      <td>...</td>\n",
       "      <td>32</td>\n",
       "      <td>72</td>\n",
       "      <td>34</td>\n",
       "      <td>1</td>\n",
       "      <td>4</td>\n",
       "      <td>1</td>\n",
       "      <td>0</td>\n",
       "      <td>0</td>\n",
       "      <td>0</td>\n",
       "      <td>0</td>\n",
       "    </tr>\n",
       "    <tr>\n",
       "      <th>1</th>\n",
       "      <td>7.0</td>\n",
       "      <td>50.0</td>\n",
       "      <td>1.020</td>\n",
       "      <td>4.0</td>\n",
       "      <td>0.0</td>\n",
       "      <td>1</td>\n",
       "      <td>1</td>\n",
       "      <td>0</td>\n",
       "      <td>0</td>\n",
       "      <td>121.0</td>\n",
       "      <td>...</td>\n",
       "      <td>26</td>\n",
       "      <td>56</td>\n",
       "      <td>34</td>\n",
       "      <td>0</td>\n",
       "      <td>3</td>\n",
       "      <td>1</td>\n",
       "      <td>0</td>\n",
       "      <td>0</td>\n",
       "      <td>0</td>\n",
       "      <td>0</td>\n",
       "    </tr>\n",
       "    <tr>\n",
       "      <th>2</th>\n",
       "      <td>62.0</td>\n",
       "      <td>80.0</td>\n",
       "      <td>1.010</td>\n",
       "      <td>2.0</td>\n",
       "      <td>3.0</td>\n",
       "      <td>1</td>\n",
       "      <td>1</td>\n",
       "      <td>0</td>\n",
       "      <td>0</td>\n",
       "      <td>423.0</td>\n",
       "      <td>...</td>\n",
       "      <td>19</td>\n",
       "      <td>70</td>\n",
       "      <td>34</td>\n",
       "      <td>0</td>\n",
       "      <td>4</td>\n",
       "      <td>1</td>\n",
       "      <td>1</td>\n",
       "      <td>0</td>\n",
       "      <td>1</td>\n",
       "      <td>0</td>\n",
       "    </tr>\n",
       "    <tr>\n",
       "      <th>3</th>\n",
       "      <td>48.0</td>\n",
       "      <td>70.0</td>\n",
       "      <td>1.005</td>\n",
       "      <td>4.0</td>\n",
       "      <td>0.0</td>\n",
       "      <td>1</td>\n",
       "      <td>0</td>\n",
       "      <td>1</td>\n",
       "      <td>0</td>\n",
       "      <td>117.0</td>\n",
       "      <td>...</td>\n",
       "      <td>20</td>\n",
       "      <td>62</td>\n",
       "      <td>19</td>\n",
       "      <td>1</td>\n",
       "      <td>3</td>\n",
       "      <td>1</td>\n",
       "      <td>1</td>\n",
       "      <td>1</td>\n",
       "      <td>1</td>\n",
       "      <td>0</td>\n",
       "    </tr>\n",
       "    <tr>\n",
       "      <th>4</th>\n",
       "      <td>51.0</td>\n",
       "      <td>80.0</td>\n",
       "      <td>1.010</td>\n",
       "      <td>2.0</td>\n",
       "      <td>0.0</td>\n",
       "      <td>1</td>\n",
       "      <td>1</td>\n",
       "      <td>0</td>\n",
       "      <td>0</td>\n",
       "      <td>106.0</td>\n",
       "      <td>...</td>\n",
       "      <td>23</td>\n",
       "      <td>68</td>\n",
       "      <td>27</td>\n",
       "      <td>0</td>\n",
       "      <td>3</td>\n",
       "      <td>1</td>\n",
       "      <td>0</td>\n",
       "      <td>0</td>\n",
       "      <td>0</td>\n",
       "      <td>0</td>\n",
       "    </tr>\n",
       "  </tbody>\n",
       "</table>\n",
       "<p>5 rows × 25 columns</p>\n",
       "</div>"
      ],
      "text/plain": [
       "    age  blood_pressure  specific_gravity  albumin  sugar  red_blood_cells  \\\n",
       "0  48.0            80.0             1.020      1.0    0.0                1   \n",
       "1   7.0            50.0             1.020      4.0    0.0                1   \n",
       "2  62.0            80.0             1.010      2.0    3.0                1   \n",
       "3  48.0            70.0             1.005      4.0    0.0                1   \n",
       "4  51.0            80.0             1.010      2.0    0.0                1   \n",
       "\n",
       "   pus_cell  pus_cell_clumps  bacteria  blood_glucose_random  ...  \\\n",
       "0         1                0         0                 121.0  ...   \n",
       "1         1                0         0                 121.0  ...   \n",
       "2         1                0         0                 423.0  ...   \n",
       "3         0                1         0                 117.0  ...   \n",
       "4         1                0         0                 106.0  ...   \n",
       "\n",
       "   packed_cell_volume  white_blood_cell_count  red_blood_cell_count  \\\n",
       "0                  32                      72                    34   \n",
       "1                  26                      56                    34   \n",
       "2                  19                      70                    34   \n",
       "3                  20                      62                    19   \n",
       "4                  23                      68                    27   \n",
       "\n",
       "   hypertension  diabetes_mellitus  coronary_artery_disease  appetite  \\\n",
       "0             1                  4                        1         0   \n",
       "1             0                  3                        1         0   \n",
       "2             0                  4                        1         1   \n",
       "3             1                  3                        1         1   \n",
       "4             0                  3                        1         0   \n",
       "\n",
       "   peda_edema  aanemia  classification  \n",
       "0           0        0               0  \n",
       "1           0        0               0  \n",
       "2           0        1               0  \n",
       "3           1        1               0  \n",
       "4           0        0               0  \n",
       "\n",
       "[5 rows x 25 columns]"
      ]
     },
     "execution_count": 18,
     "metadata": {},
     "output_type": "execute_result"
    }
   ],
   "source": [
    "kideny.head()"
   ]
  },
  {
   "cell_type": "markdown",
   "id": "3b270dbf",
   "metadata": {},
   "source": [
    "### Classification"
   ]
  },
  {
   "cell_type": "markdown",
   "id": "f6b8e60f",
   "metadata": {},
   "source": [
    "#### Decision Tree Classifier "
   ]
  },
  {
   "cell_type": "code",
   "execution_count": 19,
   "id": "f3f42e79",
   "metadata": {},
   "outputs": [],
   "source": [
    "from sklearn.tree import DecisionTreeClassifier\n",
    "from sklearn.model_selection import train_test_split\n",
    "from sklearn.metrics import accuracy_score\n",
    "from sklearn.metrics import accuracy_score, confusion_matrix, classification_report\n",
    "from sklearn import tree"
   ]
  },
  {
   "cell_type": "code",
   "execution_count": 20,
   "id": "5b8439a0",
   "metadata": {},
   "outputs": [],
   "source": [
    "# Split data into features and target variable\n",
    "x = kideny.drop('classification', axis=1)\n",
    "y= kideny['classification']"
   ]
  },
  {
   "cell_type": "code",
   "execution_count": 21,
   "id": "94ba4233",
   "metadata": {},
   "outputs": [],
   "source": [
    "# Split data into training and testing sets\n",
    "x_train, x_test, y_train, y_test = train_test_split(x, y, test_size=0.3, random_state=42)"
   ]
  },
  {
   "cell_type": "code",
   "execution_count": 22,
   "id": "49cf376c",
   "metadata": {},
   "outputs": [],
   "source": [
    "# Initialize the decision tree classifier with desired hyperparameters\n",
    "clf = DecisionTreeClassifier(criterion='gini', max_depth=5)"
   ]
  },
  {
   "cell_type": "code",
   "execution_count": 23,
   "id": "cd31a0a4",
   "metadata": {},
   "outputs": [
    {
     "data": {
      "text/plain": [
       "DecisionTreeClassifier(max_depth=5)"
      ]
     },
     "execution_count": 23,
     "metadata": {},
     "output_type": "execute_result"
    }
   ],
   "source": [
    "# Fit the model to the training data\n",
    "clf.fit(x_train, y_train)"
   ]
  },
  {
   "cell_type": "markdown",
   "id": "48747a7d",
   "metadata": {},
   "source": [
    "#### Prediction"
   ]
  },
  {
   "cell_type": "code",
   "execution_count": 24,
   "id": "c973570d",
   "metadata": {},
   "outputs": [],
   "source": [
    "# Make predictions on the testing data\n",
    "y_pred = clf.predict(x_test)"
   ]
  },
  {
   "cell_type": "code",
   "execution_count": 25,
   "id": "2cbd5bd7",
   "metadata": {},
   "outputs": [
    {
     "name": "stdout",
     "output_type": "stream",
     "text": [
      "Accuracy: 0.9916666666666667\n"
     ]
    }
   ],
   "source": [
    "# Evaluate the performance of the model\n",
    "accuracy = accuracy_score(y_test, y_pred)\n",
    "print(\"Accuracy:\", accuracy)"
   ]
  },
  {
   "cell_type": "code",
   "execution_count": 26,
   "id": "1140f0ca",
   "metadata": {
    "execution": {
     "iopub.execute_input": "2023-01-23T00:16:25.158778Z",
     "iopub.status.busy": "2023-01-23T00:16:25.158384Z",
     "iopub.status.idle": "2023-01-23T00:16:25.183700Z",
     "shell.execute_reply": "2023-01-23T00:16:25.183081Z"
    },
    "papermill": {
     "duration": 0.039217,
     "end_time": "2023-01-23T00:16:25.186183",
     "exception": false,
     "start_time": "2023-01-23T00:16:25.146966",
     "status": "completed"
    },
    "tags": []
   },
   "outputs": [
    {
     "name": "stdout",
     "output_type": "stream",
     "text": [
      "Training Accuracy of Decision Tree Classifier is 0.9964285714285714\n",
      "Test Accuracy of Decision Tree Classifier is 0.9916666666666667 \n",
      "\n",
      "Classification Report :- \n",
      "               precision    recall  f1-score   support\n",
      "\n",
      "           0       1.00      0.99      0.99        76\n",
      "           1       0.98      1.00      0.99        44\n",
      "\n",
      "    accuracy                           0.99       120\n",
      "   macro avg       0.99      0.99      0.99       120\n",
      "weighted avg       0.99      0.99      0.99       120\n",
      "\n"
     ]
    }
   ],
   "source": [
    "print(f\"Training Accuracy of Decision Tree Classifier is {accuracy_score(y_train, clf.predict(x_train))}\")\n",
    "print(f\"Test Accuracy of Decision Tree Classifier is {accuracy} \\n\")\n",
    "confusion = confusion_matrix(y_test, clf.predict(x_test))\n",
    "tn, fp, fn, tp = confusion.ravel()\n",
    "print(f\"Classification Report :- \\n {classification_report(y_test, clf.predict(x_test))}\")"
   ]
  },
  {
   "cell_type": "code",
   "execution_count": 27,
   "id": "f410db7b",
   "metadata": {},
   "outputs": [
    {
     "data": {
      "text/plain": [
       "array([0, 1, 0, 0, 0, 0, 1, 0, 1, 0, 0, 1, 0, 0, 0, 0, 1, 1, 0, 1, 0, 0,\n",
       "       1, 1, 0, 1, 0, 0, 1, 0, 1, 0, 1, 0, 0, 0, 0, 1, 0, 0, 1, 0, 0, 0,\n",
       "       0, 1, 0, 0, 0, 0, 0, 1, 1, 0, 1, 0, 0, 0, 0, 0, 0, 1, 1, 0, 0, 0,\n",
       "       1, 1, 1, 0, 1, 0, 0, 0, 1, 0, 0, 1, 0, 1, 0, 0, 0, 1, 1, 0, 0, 1,\n",
       "       0, 0, 0, 1, 0, 0, 0, 1, 1, 1, 0, 0, 0, 0, 0, 0, 0, 1, 0, 0, 1, 1,\n",
       "       0, 1, 1, 1, 1, 0, 0, 1, 1, 1], dtype=int64)"
      ]
     },
     "execution_count": 27,
     "metadata": {},
     "output_type": "execute_result"
    }
   ],
   "source": [
    "import pickle\n",
    " \n",
    "# Firstly we will be using the dump() function to save the model using pickle\n",
    "saved_model = pickle.dumps(clf)\n",
    " \n",
    "# Then we will be loading that saved model\n",
    "clf_from_pickle = pickle.loads(saved_model)\n",
    " \n",
    "# lastly, after loading that model we will use this to make predictions\n",
    "clf_from_pickle.predict(x_test)"
   ]
  }
 ],
 "metadata": {
  "kernelspec": {
   "display_name": "Python 3 (ipykernel)",
   "language": "python",
   "name": "python3"
  },
  "language_info": {
   "codemirror_mode": {
    "name": "ipython",
    "version": 3
   },
   "file_extension": ".py",
   "mimetype": "text/x-python",
   "name": "python",
   "nbconvert_exporter": "python",
   "pygments_lexer": "ipython3",
   "version": "3.9.7"
  },
  "papermill": {
   "default_parameters": {},
   "duration": 14.308397,
   "end_time": "2023-01-23T00:16:27.795567",
   "environment_variables": {},
   "exception": null,
   "input_path": "__notebook__.ipynb",
   "output_path": "__notebook__.ipynb",
   "parameters": {},
   "start_time": "2023-01-23T00:16:13.487170",
   "version": "2.3.4"
  }
 },
 "nbformat": 4,
 "nbformat_minor": 5
}
